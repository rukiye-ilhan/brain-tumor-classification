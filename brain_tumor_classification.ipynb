{
 "cells": [
  {
   "cell_type": "markdown",
   "metadata": {},
   "source": []
  },
  {
   "cell_type": "markdown",
   "metadata": {},
   "source": [
    "### gerekli paketleri brain_desseases sanal ortamına kurdum\n",
    "### bu sanal ortamda kurulan paketlerim arasında sürüm uyşmazlığı sorunu yok \n",
    "### gerekli oldukça paketleri içe aktarıcam önce verileri çekmek image'i numpy array'e çevirmek ve image işlemleri yapmak için gerekli üç modülü indireceğm"
   ]
  },
  {
   "cell_type": "code",
   "execution_count": null,
   "metadata": {},
   "outputs": [],
   "source": [
    "import numpy as np \n",
    "import pandas as pd\n",
    "import random as rd\n",
    "import os\n",
    "\n",
    "import matplotlib.pyplot as plt\n",
    "%matplotlib inline\n",
    "import seaborn as sns\n",
    "\n",
    "from PIL import Image\n",
    "\n",
    "from sklearn.model_selection import train_test_split\n",
    "from sklearn.metrics import confusion_matrix\n",
    "from sklearn.metrics import classification_report\n",
    "\n",
    "import tensorflow as tf\n",
    "from tensorflow import keras\n",
    "from tensorflow.keras import layers\n",
    "from tensorflow.keras.layers import Normalization, Rescaling  # DÜZELTİLEN KISIM\n",
    "from tensorflow.keras.metrics import Accuracy\n",
    "from keras.applications.vgg16 import VGG16\n",
    "\n",
    "# setting seed for reproducability\n",
    "from numpy.random import seed\n",
    "seed(25)\n",
    "tf.random.set_seed(50)\n"
   ]
  },
  {
   "cell_type": "markdown",
   "metadata": {},
   "source": [
    "### Downloading Images"
   ]
  },
  {
   "cell_type": "markdown",
   "metadata": {},
   "source": [
    "### görseleri açmak için from PIL import Image diyip bunu open diyerek dosyayı açtık Image nesnesi olan img'in resize fonksiyonunu kullanarak ise boyutlandırık.\n",
    "### Ancak bunları\n",
    "### from tensorflow.keras.preprocessing.image import laod_img ile resmi açma işlemi yaparız \n",
    "### from tensorflow.jeras.preprocessing.image import img_to_array ile ise array'e çevrilir burdaki koda ise ile yaptık np.array(img) diyerek\n",
    "\n",
    "### Peki aralrındaki fark nedir açılma şeklşne göre sonrasında görseli işlem noktasında ne tür farklılıkla rolur"
   ]
  },
  {
   "cell_type": "markdown",
   "metadata": {},
   "source": [
    "### data listemizin içinde numpy arrayler şeklinde RGB olmak üzere\n",
    "### her satırda ve her sütün çakışmasında denk gelen eleman \n",
    "### içinde üç tane sayısal değer olan bir pikslein rgb değerleri saklıdır\n",
    "### bu listeyi işlemler yapabilmek için numpy arraye  çevirme işlemi yapacağız"
   ]
  },
  {
   "cell_type": "code",
   "execution_count": null,
   "metadata": {},
   "outputs": [
    {
     "name": "stdout",
     "output_type": "stream",
     "text": [
      "shape of traning data: (177, 128, 128, 1)\n",
      "shape of traininig labels: (177, 1)\n",
      "shape of test data: (76, 128, 128, 1)\n",
      "shape of test labels: (76, 1)\n"
     ]
    }
   ],
   "source": [
    "print(\"shape of traning data:\", x_train.shape)\n",
    "print(\"shape of traininig labels:\",y_train.shape)\n",
    "print(\"shape of test data:\",x_test.shape)\n",
    "print(\"shape of test labels:\", y_test.shape)"
   ]
  },
  {
   "cell_type": "code",
   "execution_count": 7,
   "metadata": {},
   "outputs": [
    {
     "name": "stdout",
     "output_type": "stream",
     "text": [
      "Data shape: (4166, 128, 128, 3)\n",
      "Labels shape: (4166, 1)\n"
     ]
    }
   ],
   "source": [
    "import numpy as np\n",
    "import os\n",
    "from PIL import Image\n",
    "\n",
    "data = []  # Görselleri saklamak için liste\n",
    "labels = []  # Etiketleri saklamak için liste\n",
    "\n",
    "# Tümörlü görseller için\n",
    "tumor_path = \"C:/Users/LENOVO/Desktop/dataset/tumor_dataset\"\n",
    "for file in os.listdir(tumor_path):\n",
    "    if file.endswith('.jpg'):\n",
    "        img = Image.open(os.path.join(tumor_path, file))\n",
    "        img = img.resize((128,128))  # Boyutunu 128x128 yap\n",
    "        img = np.array(img)  # NumPy array'e çevir\n",
    "        if img.shape == (128,128,3):  # RGB olmayanları filtrele\n",
    "            data.append(img)\n",
    "            labels.append(1)  # Tümörlü olduğu için 1 etiketi ekle\n",
    "\n",
    "# Tümörsüz görseller için\n",
    "no_tumor_path = \"C:/Users/LENOVO/Desktop/dataset/no_tumor_dataset\"\n",
    "for file in os.listdir(no_tumor_path):\n",
    "    if file.endswith('.jpg'):\n",
    "        img = Image.open(os.path.join(no_tumor_path, file))\n",
    "        img = img.resize((128,128))  # Boyutunu 128x128 yap\n",
    "        img = np.array(img)  # NumPy array'e çevir\n",
    "        if img.shape == (128,128,3):  # RGB olmayanları filtrele\n",
    "            data.append(img)\n",
    "            labels.append(0)  # Tümörsüz olduğu için 0 etiketi ekle\n",
    "\n",
    "# NumPy array'e çevir\n",
    "data = np.array(data)\n",
    "labels = np.array(labels).reshape(-1,1)  # Etiketleri sütun vektörüne çevir\n",
    "\n",
    "# Boyutları yazdır\n",
    "print('Data shape:', data.shape)\n",
    "print('Labels shape:', labels.shape)\n"
   ]
  },
  {
   "cell_type": "markdown",
   "metadata": {},
   "source": [
    "### reshape fonksiyonu ile bir satır ya da süğtn fonksiyonları elde edilir\n",
    "labels = np.array(labels).reshape(-1,1) ile labels arrayi sütün vektörüne çevrildi"
   ]
  },
  {
   "cell_type": "markdown",
   "metadata": {},
   "source": [
    "### Processing the images"
   ]
  },
  {
   "cell_type": "markdown",
   "metadata": {},
   "source": [
    "### modelin öğrenme sürecini kolaylaştırmak geneleştirme yeteneğini artırmak pikseleri doğru öğrenip doğru bir ağırlıkları elde etmesi bakımından veri normalizasyonu yapıyoruz 0-1 arasına çekerek bu normalizasyon işlemini yapamdan önce en yüksek ve en düşük değerleri buluyorum array içinden"
   ]
  },
  {
   "cell_type": "code",
   "execution_count": 8,
   "metadata": {},
   "outputs": [
    {
     "name": "stdout",
     "output_type": "stream",
     "text": [
      "255\n",
      "0\n"
     ]
    }
   ],
   "source": [
    "#getting the max of the array\n",
    "print(np.max(data))\n",
    "#getting the min of the array\n",
    "print(np.min(data))"
   ]
  },
  {
   "cell_type": "code",
   "execution_count": 9,
   "metadata": {},
   "outputs": [
    {
     "name": "stdout",
     "output_type": "stream",
     "text": [
      "1.0\n",
      "0.0\n"
     ]
    }
   ],
   "source": [
    "#reducing the data to between 1 and 0\n",
    "data = data / 255.00\n",
    "#getting the max of the array\n",
    "print(np.max(data))\n",
    "#getting the min of the array\n",
    "print(np.min(data))"
   ]
  },
  {
   "cell_type": "markdown",
   "metadata": {},
   "source": [
    "### Visualizing the images"
   ]
  },
  {
   "cell_type": "markdown",
   "metadata": {},
   "source": []
  },
  {
   "cell_type": "markdown",
   "metadata": {},
   "source": [
    "# veri setindeki 5 görseli ekrana bastırdım aktarılmış veri setinin içeriğine bakmak ve incelemek için\n",
    "# Grafik ve görseleştirme için kullanılan matplotlib kütüphanesinin pyplot modülü plt adıyla içeri aktardım\n",
    "# fig = plt.figure(figsize=(5,5)) her image için 5x5'lik bir alan oluşturuyor\n",
    "# plt.subplot(1,5,i+1) bu kod satırıyla 1 satır 5 sütünluk bir ızgara oluşşturdum burda 5 görsel bastırdığımız için bu şeklde örneğin 25 görsel için 5,5 den 25 lik dilim olup i+1. index'e sıradaki görsel yerleştirilir"
   ]
  },
  {
   "cell_type": "code",
   "execution_count": null,
   "metadata": {},
   "outputs": [],
   "source": [
    "import  matplotlib.pyplot as plt\n",
    "for i in range(5):\n",
    "    fig = plt.figure(figsize=(5,5))\n",
    "    plt.subplot(5,5,i+1)\n",
    "    image = plt.imshow(data[i])\n",
    "    plt.show(image)"
   ]
  },
  {
   "cell_type": "markdown",
   "metadata": {},
   "source": [
    "### Model"
   ]
  },
  {
   "cell_type": "markdown",
   "metadata": {},
   "source": [
    "### train_test_split sklearn.model_selection modülünden import edilen bir sınıftır bu sınıf input ve output şeklinde x ve y alır ve bunları x ve y'yi test_size göre böler shuffle = Ture olması ise veriyi karıştırarak ayırır daha iyi genelenmiş bir veri seti üzerinden ayırma işlemi yapılır random_state değişkeni ise rastgeleliği bir değişkende tutat tekrar gelip aynı rastgelelik üzerinden kodu çalıştırmak için rastgeleliği veren bir base sağlar"
   ]
  },
  {
   "cell_type": "code",
   "execution_count": 11,
   "metadata": {},
   "outputs": [],
   "source": [
    "x_train,x_test,y_train,y_test = train_test_split(data, labels, test_size=0.3, shuffle=True, random_state=7)"
   ]
  },
  {
   "cell_type": "code",
   "execution_count": 12,
   "metadata": {},
   "outputs": [
    {
     "name": "stdout",
     "output_type": "stream",
     "text": [
      "shape of our training data: (2916, 128, 128, 3)\n",
      "shape of our training labels: (2916, 1)\n",
      "shape of our test data: (1250, 128, 128, 3)\n",
      "shape of our test labels: (1250, 1)\n"
     ]
    }
   ],
   "source": [
    "print(\"shape of our training data:\",x_train.shape)\n",
    "print(\"shape of our training labels:\",y_train.shape)\n",
    "print(\"shape of our test data:\",x_test.shape)\n",
    "print(\"shape of our test labels:\",y_test.shape)"
   ]
  },
  {
   "cell_type": "markdown",
   "metadata": {},
   "source": [
    "### Creating our baseline mode"
   ]
  },
  {
   "cell_type": "markdown",
   "metadata": {},
   "source": [
    "### Filters parametresi kaç tane filtre kullanacağımzı belitir kernel_size parametrei filtrein boyutnu belirler \n",
    "### Padding işlemi sayesinde image deki boyut korunur kenarlar üzerinden ve bu sayede kenardaki özelliklerde hesaba katılır kenardan bilgi kaybı engelenir\n",
    "### ilk kısımda gelelcek olan image'in boyutu veriliyor 128x128x3 = 2432 tan eparamtre her defasında input olarak girecektir\n"
   ]
  },
  {
   "cell_type": "markdown",
   "metadata": {},
   "source": [
    "# activation function önemli bir parametredir \n",
    "# yapay sinir ağlarında aktivasyon fonksiyonun kullanım sebebi yapay sinir ağlarının doğrusal olmayan ilişkileri öğrenmesini sağlamak eğer aktivasyon fonksiiyonu kullanılmazsa ağ sadece doğrusal linear dönüşümler yapar bundan dolayı çok karmaşık ilişkileri yorumlaamk mümkün olmaz sigmoid swish(google tarafından uygulandı ilk defa ) reLU leaky reLU(vavishing graadient problemine çzöüm olarak) gibi aktivasyon fonksiyonları sayesinde nöronların çıktı toplama çıkrama yani matriks işlemleri dışında işlemlere tabi tutulduğu için örneğin reLU da 0 negatif değerleri 0'a çekerek linearliği bozup non-linear bir yapı katar bu sayede model karmaşık ilişkileri öğrenebilir hale gelir"
   ]
  },
  {
   "cell_type": "markdown",
   "metadata": {},
   "source": [
    "# Pooling katmanı konvonüsyonel katman işlemlerinden sonra gelen image de özellikleri kaybetmeden boyutu küçültmek işlemi hızlandırmka ve modelin overfitting yapmasını engelemek\n",
    "# daha az veri daha az maliyetli hesaplama tabi bu küçültme işlemşnde önemli özellikleri korur ağırlıkların fazla öğrenip ezberlemesinşi önler \n",
    "# ve en önemli diğer bir katkısı konum değişikliğine karşı duyarsız yapar modeli örneğin nesne biraz kayarsa dahi model onu farkedebilir\n",
    "# Max Pooling belirli bir pencerre bir tür filtre gibi düşünüleiblir en büyük değeri alır yaygın olarak bu kullanılır\n",
    "# Averge Pooling pencere içindeki ortlama değeri alır\n",
    "# Global Pooling tüm alanın tek ortalama veya max değerini çıkarır\n",
    "# İstersek conv ve pool katmanlarında stride parametresini kulanabiliriz\n",
    "# conv2d'de stride=(1,1) demek her seferide 1 piksle kayar demektir (2,2) demek her seferide 2 piksel atlaya atlaya geçer demektir bu şekşlde feature map boyutları güçülür downsampling olarak çalışır\n",
    "# Max pooling de ise pooling penceresinin kaç adımda kaydırılacağını belirtir eğer stride parametresini belirtmezsek default oalrak stride = pool_size olur yani pencere boyutu kadar kayar "
   ]
  },
  {
   "cell_type": "markdown",
   "metadata": {},
   "source": [
    "# layers.Flattem() CNN katmanları 2D(yükseklik genişlik) veya 3D(yükseklik genişlik,kanal) çıktıları üretir bu katman ise çok boyutlu veriyi tek bir vektör haline getirir.tek bşr vektör haline getirme sebebimiz düzleştirme sebebimiz mimarilerimizin son katmanalrına yerleştirdiğimiz dense (katman) giriş olarak 1D vektör alır CNN'nin uzamsal çıktısını tam bağlantılı bir katmana dönüştürür eğer CNN çıkışı (8,8,128) boyutundaysa Flatten katmanından sonra boyut 8* 8 * 128 = (8192,)\n",
    "# Dropout katmanı ise AlexNet'e ilk karşıma çıktı bu makale ki aralarında Geoffrey E.Hinton'da olduğu bir makalede uygulandıldığı ve sonuçları paylaşılmış layers.dropout(0.25) her bir eğitim adımında her bir nöronun hayatına devam etmeme olasılığı 0.25'dir yani 0.25 olasılıkla ölebilir bu olasılığı göz önüne aldığımda hemem hemem %25' i sfırlanır diyebiliriz tabi bu bir olaslık belki yarısndan falası da yok olabilir ancak bu da bir olasılıktır ve düşük bir olasılıktır bu sayede aşırı öğrenme azaltılmak genelleme yeteneği artırılmak modein dayanıklılığını artırmak hedeflenir çünkü her seferinde farklı nöron kombnasyobalrıyla çalıltırıarak daha esnek hale gelir"
   ]
  },
  {
   "cell_type": "markdown",
   "metadata": {},
   "source": []
  },
  {
   "cell_type": "code",
   "execution_count": null,
   "metadata": {},
   "outputs": [
    {
     "data": {
      "text/html": [
       "<pre style=\"white-space:pre;overflow-x:auto;line-height:normal;font-family:Menlo,'DejaVu Sans Mono',consolas,'Courier New',monospace\"><span style=\"font-weight: bold\">Model: \"sequential\"</span>\n",
       "</pre>\n"
      ],
      "text/plain": [
       "\u001b[1mModel: \"sequential\"\u001b[0m\n"
      ]
     },
     "metadata": {},
     "output_type": "display_data"
    },
    {
     "data": {
      "text/html": [
       "<pre style=\"white-space:pre;overflow-x:auto;line-height:normal;font-family:Menlo,'DejaVu Sans Mono',consolas,'Courier New',monospace\">┏━━━━━━━━━━━━━━━━━━━━━━━━━━━━━━━━━┳━━━━━━━━━━━━━━━━━━━━━━━━┳━━━━━━━━━━━━━━━┓\n",
       "┃<span style=\"font-weight: bold\"> Layer (type)                    </span>┃<span style=\"font-weight: bold\"> Output Shape           </span>┃<span style=\"font-weight: bold\">       Param # </span>┃\n",
       "┡━━━━━━━━━━━━━━━━━━━━━━━━━━━━━━━━━╇━━━━━━━━━━━━━━━━━━━━━━━━╇━━━━━━━━━━━━━━━┩\n",
       "│ conv2d (<span style=\"color: #0087ff; text-decoration-color: #0087ff\">Conv2D</span>)                 │ (<span style=\"color: #00d7ff; text-decoration-color: #00d7ff\">None</span>, <span style=\"color: #00af00; text-decoration-color: #00af00\">128</span>, <span style=\"color: #00af00; text-decoration-color: #00af00\">128</span>, <span style=\"color: #00af00; text-decoration-color: #00af00\">32</span>)   │         <span style=\"color: #00af00; text-decoration-color: #00af00\">2,432</span> │\n",
       "├─────────────────────────────────┼────────────────────────┼───────────────┤\n",
       "│ max_pooling2d (<span style=\"color: #0087ff; text-decoration-color: #0087ff\">MaxPooling2D</span>)    │ (<span style=\"color: #00d7ff; text-decoration-color: #00d7ff\">None</span>, <span style=\"color: #00af00; text-decoration-color: #00af00\">64</span>, <span style=\"color: #00af00; text-decoration-color: #00af00\">64</span>, <span style=\"color: #00af00; text-decoration-color: #00af00\">32</span>)     │             <span style=\"color: #00af00; text-decoration-color: #00af00\">0</span> │\n",
       "├─────────────────────────────────┼────────────────────────┼───────────────┤\n",
       "│ conv2d_1 (<span style=\"color: #0087ff; text-decoration-color: #0087ff\">Conv2D</span>)               │ (<span style=\"color: #00d7ff; text-decoration-color: #00d7ff\">None</span>, <span style=\"color: #00af00; text-decoration-color: #00af00\">64</span>, <span style=\"color: #00af00; text-decoration-color: #00af00\">64</span>, <span style=\"color: #00af00; text-decoration-color: #00af00\">64</span>)     │        <span style=\"color: #00af00; text-decoration-color: #00af00\">18,496</span> │\n",
       "├─────────────────────────────────┼────────────────────────┼───────────────┤\n",
       "│ max_pooling2d_1 (<span style=\"color: #0087ff; text-decoration-color: #0087ff\">MaxPooling2D</span>)  │ (<span style=\"color: #00d7ff; text-decoration-color: #00d7ff\">None</span>, <span style=\"color: #00af00; text-decoration-color: #00af00\">32</span>, <span style=\"color: #00af00; text-decoration-color: #00af00\">32</span>, <span style=\"color: #00af00; text-decoration-color: #00af00\">64</span>)     │             <span style=\"color: #00af00; text-decoration-color: #00af00\">0</span> │\n",
       "├─────────────────────────────────┼────────────────────────┼───────────────┤\n",
       "│ conv2d_2 (<span style=\"color: #0087ff; text-decoration-color: #0087ff\">Conv2D</span>)               │ (<span style=\"color: #00d7ff; text-decoration-color: #00d7ff\">None</span>, <span style=\"color: #00af00; text-decoration-color: #00af00\">32</span>, <span style=\"color: #00af00; text-decoration-color: #00af00\">32</span>, <span style=\"color: #00af00; text-decoration-color: #00af00\">128</span>)    │        <span style=\"color: #00af00; text-decoration-color: #00af00\">73,856</span> │\n",
       "├─────────────────────────────────┼────────────────────────┼───────────────┤\n",
       "│ max_pooling2d_2 (<span style=\"color: #0087ff; text-decoration-color: #0087ff\">MaxPooling2D</span>)  │ (<span style=\"color: #00d7ff; text-decoration-color: #00d7ff\">None</span>, <span style=\"color: #00af00; text-decoration-color: #00af00\">16</span>, <span style=\"color: #00af00; text-decoration-color: #00af00\">16</span>, <span style=\"color: #00af00; text-decoration-color: #00af00\">128</span>)    │             <span style=\"color: #00af00; text-decoration-color: #00af00\">0</span> │\n",
       "├─────────────────────────────────┼────────────────────────┼───────────────┤\n",
       "│ conv2d_3 (<span style=\"color: #0087ff; text-decoration-color: #0087ff\">Conv2D</span>)               │ (<span style=\"color: #00d7ff; text-decoration-color: #00d7ff\">None</span>, <span style=\"color: #00af00; text-decoration-color: #00af00\">16</span>, <span style=\"color: #00af00; text-decoration-color: #00af00\">16</span>, <span style=\"color: #00af00; text-decoration-color: #00af00\">128</span>)    │       <span style=\"color: #00af00; text-decoration-color: #00af00\">147,584</span> │\n",
       "├─────────────────────────────────┼────────────────────────┼───────────────┤\n",
       "│ max_pooling2d_3 (<span style=\"color: #0087ff; text-decoration-color: #0087ff\">MaxPooling2D</span>)  │ (<span style=\"color: #00d7ff; text-decoration-color: #00d7ff\">None</span>, <span style=\"color: #00af00; text-decoration-color: #00af00\">8</span>, <span style=\"color: #00af00; text-decoration-color: #00af00\">8</span>, <span style=\"color: #00af00; text-decoration-color: #00af00\">128</span>)      │             <span style=\"color: #00af00; text-decoration-color: #00af00\">0</span> │\n",
       "├─────────────────────────────────┼────────────────────────┼───────────────┤\n",
       "│ flatten (<span style=\"color: #0087ff; text-decoration-color: #0087ff\">Flatten</span>)               │ (<span style=\"color: #00d7ff; text-decoration-color: #00d7ff\">None</span>, <span style=\"color: #00af00; text-decoration-color: #00af00\">8192</span>)           │             <span style=\"color: #00af00; text-decoration-color: #00af00\">0</span> │\n",
       "├─────────────────────────────────┼────────────────────────┼───────────────┤\n",
       "│ dropout (<span style=\"color: #0087ff; text-decoration-color: #0087ff\">Dropout</span>)               │ (<span style=\"color: #00d7ff; text-decoration-color: #00d7ff\">None</span>, <span style=\"color: #00af00; text-decoration-color: #00af00\">8192</span>)           │             <span style=\"color: #00af00; text-decoration-color: #00af00\">0</span> │\n",
       "├─────────────────────────────────┼────────────────────────┼───────────────┤\n",
       "│ dense (<span style=\"color: #0087ff; text-decoration-color: #0087ff\">Dense</span>)                   │ (<span style=\"color: #00d7ff; text-decoration-color: #00d7ff\">None</span>, <span style=\"color: #00af00; text-decoration-color: #00af00\">256</span>)            │     <span style=\"color: #00af00; text-decoration-color: #00af00\">2,097,408</span> │\n",
       "├─────────────────────────────────┼────────────────────────┼───────────────┤\n",
       "│ dense_1 (<span style=\"color: #0087ff; text-decoration-color: #0087ff\">Dense</span>)                 │ (<span style=\"color: #00d7ff; text-decoration-color: #00d7ff\">None</span>, <span style=\"color: #00af00; text-decoration-color: #00af00\">1</span>)              │           <span style=\"color: #00af00; text-decoration-color: #00af00\">257</span> │\n",
       "└─────────────────────────────────┴────────────────────────┴───────────────┘\n",
       "</pre>\n"
      ],
      "text/plain": [
       "┏━━━━━━━━━━━━━━━━━━━━━━━━━━━━━━━━━┳━━━━━━━━━━━━━━━━━━━━━━━━┳━━━━━━━━━━━━━━━┓\n",
       "┃\u001b[1m \u001b[0m\u001b[1mLayer (type)                   \u001b[0m\u001b[1m \u001b[0m┃\u001b[1m \u001b[0m\u001b[1mOutput Shape          \u001b[0m\u001b[1m \u001b[0m┃\u001b[1m \u001b[0m\u001b[1m      Param #\u001b[0m\u001b[1m \u001b[0m┃\n",
       "┡━━━━━━━━━━━━━━━━━━━━━━━━━━━━━━━━━╇━━━━━━━━━━━━━━━━━━━━━━━━╇━━━━━━━━━━━━━━━┩\n",
       "│ conv2d (\u001b[38;5;33mConv2D\u001b[0m)                 │ (\u001b[38;5;45mNone\u001b[0m, \u001b[38;5;34m128\u001b[0m, \u001b[38;5;34m128\u001b[0m, \u001b[38;5;34m32\u001b[0m)   │         \u001b[38;5;34m2,432\u001b[0m │\n",
       "├─────────────────────────────────┼────────────────────────┼───────────────┤\n",
       "│ max_pooling2d (\u001b[38;5;33mMaxPooling2D\u001b[0m)    │ (\u001b[38;5;45mNone\u001b[0m, \u001b[38;5;34m64\u001b[0m, \u001b[38;5;34m64\u001b[0m, \u001b[38;5;34m32\u001b[0m)     │             \u001b[38;5;34m0\u001b[0m │\n",
       "├─────────────────────────────────┼────────────────────────┼───────────────┤\n",
       "│ conv2d_1 (\u001b[38;5;33mConv2D\u001b[0m)               │ (\u001b[38;5;45mNone\u001b[0m, \u001b[38;5;34m64\u001b[0m, \u001b[38;5;34m64\u001b[0m, \u001b[38;5;34m64\u001b[0m)     │        \u001b[38;5;34m18,496\u001b[0m │\n",
       "├─────────────────────────────────┼────────────────────────┼───────────────┤\n",
       "│ max_pooling2d_1 (\u001b[38;5;33mMaxPooling2D\u001b[0m)  │ (\u001b[38;5;45mNone\u001b[0m, \u001b[38;5;34m32\u001b[0m, \u001b[38;5;34m32\u001b[0m, \u001b[38;5;34m64\u001b[0m)     │             \u001b[38;5;34m0\u001b[0m │\n",
       "├─────────────────────────────────┼────────────────────────┼───────────────┤\n",
       "│ conv2d_2 (\u001b[38;5;33mConv2D\u001b[0m)               │ (\u001b[38;5;45mNone\u001b[0m, \u001b[38;5;34m32\u001b[0m, \u001b[38;5;34m32\u001b[0m, \u001b[38;5;34m128\u001b[0m)    │        \u001b[38;5;34m73,856\u001b[0m │\n",
       "├─────────────────────────────────┼────────────────────────┼───────────────┤\n",
       "│ max_pooling2d_2 (\u001b[38;5;33mMaxPooling2D\u001b[0m)  │ (\u001b[38;5;45mNone\u001b[0m, \u001b[38;5;34m16\u001b[0m, \u001b[38;5;34m16\u001b[0m, \u001b[38;5;34m128\u001b[0m)    │             \u001b[38;5;34m0\u001b[0m │\n",
       "├─────────────────────────────────┼────────────────────────┼───────────────┤\n",
       "│ conv2d_3 (\u001b[38;5;33mConv2D\u001b[0m)               │ (\u001b[38;5;45mNone\u001b[0m, \u001b[38;5;34m16\u001b[0m, \u001b[38;5;34m16\u001b[0m, \u001b[38;5;34m128\u001b[0m)    │       \u001b[38;5;34m147,584\u001b[0m │\n",
       "├─────────────────────────────────┼────────────────────────┼───────────────┤\n",
       "│ max_pooling2d_3 (\u001b[38;5;33mMaxPooling2D\u001b[0m)  │ (\u001b[38;5;45mNone\u001b[0m, \u001b[38;5;34m8\u001b[0m, \u001b[38;5;34m8\u001b[0m, \u001b[38;5;34m128\u001b[0m)      │             \u001b[38;5;34m0\u001b[0m │\n",
       "├─────────────────────────────────┼────────────────────────┼───────────────┤\n",
       "│ flatten (\u001b[38;5;33mFlatten\u001b[0m)               │ (\u001b[38;5;45mNone\u001b[0m, \u001b[38;5;34m8192\u001b[0m)           │             \u001b[38;5;34m0\u001b[0m │\n",
       "├─────────────────────────────────┼────────────────────────┼───────────────┤\n",
       "│ dropout (\u001b[38;5;33mDropout\u001b[0m)               │ (\u001b[38;5;45mNone\u001b[0m, \u001b[38;5;34m8192\u001b[0m)           │             \u001b[38;5;34m0\u001b[0m │\n",
       "├─────────────────────────────────┼────────────────────────┼───────────────┤\n",
       "│ dense (\u001b[38;5;33mDense\u001b[0m)                   │ (\u001b[38;5;45mNone\u001b[0m, \u001b[38;5;34m256\u001b[0m)            │     \u001b[38;5;34m2,097,408\u001b[0m │\n",
       "├─────────────────────────────────┼────────────────────────┼───────────────┤\n",
       "│ dense_1 (\u001b[38;5;33mDense\u001b[0m)                 │ (\u001b[38;5;45mNone\u001b[0m, \u001b[38;5;34m1\u001b[0m)              │           \u001b[38;5;34m257\u001b[0m │\n",
       "└─────────────────────────────────┴────────────────────────┴───────────────┘\n"
      ]
     },
     "metadata": {},
     "output_type": "display_data"
    },
    {
     "data": {
      "text/html": [
       "<pre style=\"white-space:pre;overflow-x:auto;line-height:normal;font-family:Menlo,'DejaVu Sans Mono',consolas,'Courier New',monospace\"><span style=\"font-weight: bold\"> Total params: </span><span style=\"color: #00af00; text-decoration-color: #00af00\">2,340,033</span> (8.93 MB)\n",
       "</pre>\n"
      ],
      "text/plain": [
       "\u001b[1m Total params: \u001b[0m\u001b[38;5;34m2,340,033\u001b[0m (8.93 MB)\n"
      ]
     },
     "metadata": {},
     "output_type": "display_data"
    },
    {
     "data": {
      "text/html": [
       "<pre style=\"white-space:pre;overflow-x:auto;line-height:normal;font-family:Menlo,'DejaVu Sans Mono',consolas,'Courier New',monospace\"><span style=\"font-weight: bold\"> Trainable params: </span><span style=\"color: #00af00; text-decoration-color: #00af00\">2,340,033</span> (8.93 MB)\n",
       "</pre>\n"
      ],
      "text/plain": [
       "\u001b[1m Trainable params: \u001b[0m\u001b[38;5;34m2,340,033\u001b[0m (8.93 MB)\n"
      ]
     },
     "metadata": {},
     "output_type": "display_data"
    },
    {
     "data": {
      "text/html": [
       "<pre style=\"white-space:pre;overflow-x:auto;line-height:normal;font-family:Menlo,'DejaVu Sans Mono',consolas,'Courier New',monospace\"><span style=\"font-weight: bold\"> Non-trainable params: </span><span style=\"color: #00af00; text-decoration-color: #00af00\">0</span> (0.00 B)\n",
       "</pre>\n"
      ],
      "text/plain": [
       "\u001b[1m Non-trainable params: \u001b[0m\u001b[38;5;34m0\u001b[0m (0.00 B)\n"
      ]
     },
     "metadata": {},
     "output_type": "display_data"
    }
   ],
   "source": [
    "model = keras.Sequential([\n",
    "    \n",
    "    layers.Conv2D(filters=32, kernel_size=(5,5), activation=\"relu\", padding='same', input_shape=[128, 128, 3]),\n",
    "    layers.MaxPool2D(),\n",
    "    \n",
    "    layers.Conv2D(filters=64, kernel_size=(3,3), activation=\"relu\", padding='same'),\n",
    "    layers.MaxPool2D(),\n",
    "    \n",
    "    layers.Conv2D(filters=128, kernel_size=(3,3), activation=\"relu\", padding='same'),\n",
    "    layers.MaxPool2D(),\n",
    "    \n",
    "    layers.Conv2D(filters=128, kernel_size=(3,3), activation=\"relu\", padding='same'),\n",
    "    layers.MaxPool2D(),\n",
    "    \n",
    "    layers.Flatten(),\n",
    "    layers.Dropout(.25),\n",
    "    layers.Dense(units=256, activation=\"relu\"),\n",
    "    layers.Dense(units=1, activation=\"sigmoid\"),\n",
    "])\n",
    "model.summary()"
   ]
  },
  {
   "cell_type": "markdown",
   "metadata": {},
   "source": [
    "# Optimizer parametresi burda en önemli olan parametrelerden biridir modelin öğrenmesindeki ana karakterlerdendir .Ağırlıkları günceleyen algoritmadır.\n",
    "# En sık kullanılan optimizasyon algoritmaları SGD(Stochastic Gradient Descent) genelikle optimizer = tf.keras.optimizers.SGD(learning_rate=0.01, momentum=0.9)\n",
    "\n",
    "# RMSProp(Root Mean Square Propagation) \n",
    "# optimizer = tf.keras.optimizers.RMSprop(learning_rate=0.001, rho=0.9)\n",
    "# Adam (Adaptive Moment Estiamtion) RMSProp + Momentum birleşimi \n"
   ]
  },
  {
   "cell_type": "markdown",
   "metadata": {},
   "source": []
  },
  {
   "cell_type": "markdown",
   "metadata": {},
   "source": [
    "# model.compile ile modelin nasıl öğrenmesi gerrektiğini söyledim\n",
    "# early_stopping ile ise aşırı öğrenme riskine karşı kontrol sistemi ekledim"
   ]
  },
  {
   "cell_type": "code",
   "execution_count": null,
   "metadata": {},
   "outputs": [],
   "source": [
    "model.compile(\n",
    "    optimizer=tf.keras.optimizers.Adam(epsilon=0.01),#0'a yaklaşan değerlerde sayısal hataları önlemek için kullanılan çok küçük bşr sabit\n",
    "    loss='binary_crossentropy',#ikili sınıflandırma da kullanılır modelin tahmin ile etiket arasındaki farkı ölçer.\n",
    "    metrics=['accuracy']#Rğitimi takip edereken hangi metriğe bakmak istediğimiz söylediğimiz kısım modelin accuracy oranı izlenecek.\n",
    ")\n",
    "\n",
    "#including early stopping to prevent overfitting\n",
    "early_stopping = keras.callbacks.EarlyStopping(\n",
    "    patience=10,#Eğitimde doğrulama kaybı(val_loss) 10 epoch boyunca sabit ya da gerilerse dur.\n",
    "    min_delta=0.001,#iyileşme için farkın 0.001 olması gerekiyor bu değerden az değişimler gelişme olarak sayılamaz.\n",
    "    restore_best_weights=True,#Eğitim durduğunda modelin en iyi olduğu epochtaki ağırlıklara geri dön\n",
    ")"
   ]
  },
  {
   "cell_type": "markdown",
   "metadata": {},
   "source": [
    "### Eğitim sırasında tüm veris setini bie seferde modele vermek çok maliyetli olur bunun yerine veri küçük parçalra batch'lere ayrılır batch_size=64 demek bir iterasyonda model'e veri setinden çekilen 64 görsel verilir \n",
    "###  BİR Epoch ise eğitim veri setinin TAMAMININ bir kez modelden geçirilmesidir örneğin 158 image varsa 64 64 30 şeklinde 3 batch oluşturulur her iterasyonda 1 batch işlenir tüm batch'ler biter veri seti bir kere hepsi modelden geçer buda bir epoch olur ve bir epoch tamamlanır"
   ]
  },
  {
   "cell_type": "code",
   "execution_count": null,
   "metadata": {},
   "outputs": [
    {
     "name": "stdout",
     "output_type": "stream",
     "text": [
      "Epoch 1/200\n",
      "46/46 - 64s - 1s/step - accuracy: 0.5669 - loss: 0.6861 - val_accuracy: 0.6696 - val_loss: 0.6714\n",
      "Epoch 2/200\n",
      "46/46 - 53s - 1s/step - accuracy: 0.6547 - loss: 0.6540 - val_accuracy: 0.6600 - val_loss: 0.6158\n",
      "Epoch 3/200\n",
      "46/46 - 56s - 1s/step - accuracy: 0.6732 - loss: 0.6111 - val_accuracy: 0.6920 - val_loss: 0.5983\n",
      "Epoch 4/200\n",
      "46/46 - 60s - 1s/step - accuracy: 0.6770 - loss: 0.5992 - val_accuracy: 0.6880 - val_loss: 0.5896\n",
      "Epoch 5/200\n",
      "46/46 - 65s - 1s/step - accuracy: 0.6848 - loss: 0.5839 - val_accuracy: 0.6928 - val_loss: 0.5705\n",
      "Epoch 6/200\n",
      "46/46 - 61s - 1s/step - accuracy: 0.6979 - loss: 0.5737 - val_accuracy: 0.7016 - val_loss: 0.5560\n",
      "Epoch 7/200\n",
      "46/46 - 64s - 1s/step - accuracy: 0.7075 - loss: 0.5530 - val_accuracy: 0.7120 - val_loss: 0.5337\n",
      "Epoch 8/200\n",
      "46/46 - 70s - 2s/step - accuracy: 0.7311 - loss: 0.5235 - val_accuracy: 0.7504 - val_loss: 0.5022\n",
      "Epoch 9/200\n",
      "46/46 - 65s - 1s/step - accuracy: 0.7651 - loss: 0.4785 - val_accuracy: 0.7648 - val_loss: 0.4664\n",
      "Epoch 10/200\n",
      "46/46 - 74s - 2s/step - accuracy: 0.7905 - loss: 0.4493 - val_accuracy: 0.7984 - val_loss: 0.4261\n",
      "Epoch 11/200\n",
      "46/46 - 69s - 2s/step - accuracy: 0.8093 - loss: 0.4204 - val_accuracy: 0.8248 - val_loss: 0.3957\n",
      "Epoch 12/200\n",
      "46/46 - 75s - 2s/step - accuracy: 0.8306 - loss: 0.3848 - val_accuracy: 0.8456 - val_loss: 0.3687\n",
      "Epoch 13/200\n",
      "46/46 - 67s - 1s/step - accuracy: 0.8464 - loss: 0.3523 - val_accuracy: 0.8328 - val_loss: 0.3711\n",
      "Epoch 14/200\n",
      "46/46 - 71s - 2s/step - accuracy: 0.8570 - loss: 0.3371 - val_accuracy: 0.8792 - val_loss: 0.3309\n",
      "Epoch 15/200\n",
      "46/46 - 69s - 2s/step - accuracy: 0.8793 - loss: 0.2988 - val_accuracy: 0.8856 - val_loss: 0.2967\n",
      "Epoch 16/200\n",
      "46/46 - 59s - 1s/step - accuracy: 0.8892 - loss: 0.2744 - val_accuracy: 0.8984 - val_loss: 0.2808\n",
      "Epoch 17/200\n",
      "46/46 - 68s - 1s/step - accuracy: 0.8920 - loss: 0.2728 - val_accuracy: 0.9008 - val_loss: 0.3008\n",
      "Epoch 18/200\n",
      "46/46 - 65s - 1s/step - accuracy: 0.9060 - loss: 0.2516 - val_accuracy: 0.9080 - val_loss: 0.2605\n",
      "Epoch 19/200\n",
      "46/46 - 66s - 1s/step - accuracy: 0.9246 - loss: 0.2018 - val_accuracy: 0.9304 - val_loss: 0.2379\n",
      "Epoch 20/200\n",
      "46/46 - 63s - 1s/step - accuracy: 0.9486 - loss: 0.1557 - val_accuracy: 0.9392 - val_loss: 0.2220\n",
      "Epoch 21/200\n",
      "46/46 - 62s - 1s/step - accuracy: 0.9475 - loss: 0.1488 - val_accuracy: 0.9424 - val_loss: 0.2121\n",
      "Epoch 22/200\n",
      "46/46 - 68s - 1s/step - accuracy: 0.9438 - loss: 0.1557 - val_accuracy: 0.9504 - val_loss: 0.1927\n",
      "Epoch 23/200\n",
      "46/46 - 57s - 1s/step - accuracy: 0.9510 - loss: 0.1301 - val_accuracy: 0.9240 - val_loss: 0.2204\n",
      "Epoch 24/200\n",
      "46/46 - 55s - 1s/step - accuracy: 0.9619 - loss: 0.1096 - val_accuracy: 0.9552 - val_loss: 0.2004\n",
      "Epoch 25/200\n",
      "46/46 - 61s - 1s/step - accuracy: 0.9626 - loss: 0.1078 - val_accuracy: 0.9392 - val_loss: 0.2180\n",
      "Epoch 26/200\n",
      "46/46 - 64s - 1s/step - accuracy: 0.9571 - loss: 0.1166 - val_accuracy: 0.9528 - val_loss: 0.1950\n",
      "Epoch 27/200\n",
      "46/46 - 66s - 1s/step - accuracy: 0.9698 - loss: 0.0915 - val_accuracy: 0.9528 - val_loss: 0.1669\n",
      "Epoch 28/200\n",
      "46/46 - 62s - 1s/step - accuracy: 0.9664 - loss: 0.1050 - val_accuracy: 0.9584 - val_loss: 0.1705\n",
      "Epoch 29/200\n",
      "46/46 - 79s - 2s/step - accuracy: 0.9684 - loss: 0.0895 - val_accuracy: 0.9592 - val_loss: 0.1612\n",
      "Epoch 30/200\n",
      "46/46 - 92s - 2s/step - accuracy: 0.9791 - loss: 0.0650 - val_accuracy: 0.9560 - val_loss: 0.1600\n",
      "Epoch 31/200\n",
      "46/46 - 75s - 2s/step - accuracy: 0.9818 - loss: 0.0677 - val_accuracy: 0.9520 - val_loss: 0.1799\n",
      "Epoch 32/200\n",
      "46/46 - 71s - 2s/step - accuracy: 0.9784 - loss: 0.0683 - val_accuracy: 0.9544 - val_loss: 0.1790\n",
      "Epoch 33/200\n",
      "46/46 - 65s - 1s/step - accuracy: 0.9767 - loss: 0.0692 - val_accuracy: 0.9528 - val_loss: 0.1803\n",
      "Epoch 34/200\n",
      "46/46 - 67s - 1s/step - accuracy: 0.9794 - loss: 0.0653 - val_accuracy: 0.9560 - val_loss: 0.1780\n",
      "Epoch 35/200\n",
      "46/46 - 77s - 2s/step - accuracy: 0.9859 - loss: 0.0510 - val_accuracy: 0.9504 - val_loss: 0.2022\n",
      "Epoch 36/200\n",
      "46/46 - 95s - 2s/step - accuracy: 0.9849 - loss: 0.0492 - val_accuracy: 0.9632 - val_loss: 0.1603\n",
      "Epoch 37/200\n",
      "46/46 - 144s - 3s/step - accuracy: 0.9856 - loss: 0.0564 - val_accuracy: 0.9584 - val_loss: 0.1806\n",
      "Epoch 38/200\n",
      "46/46 - 111s - 2s/step - accuracy: 0.9863 - loss: 0.0535 - val_accuracy: 0.9664 - val_loss: 0.1539\n",
      "Epoch 39/200\n",
      "46/46 - 78s - 2s/step - accuracy: 0.9839 - loss: 0.0510 - val_accuracy: 0.9600 - val_loss: 0.1506\n",
      "Epoch 40/200\n",
      "46/46 - 96s - 2s/step - accuracy: 0.9825 - loss: 0.0555 - val_accuracy: 0.9536 - val_loss: 0.1824\n",
      "Epoch 41/200\n",
      "46/46 - 98s - 2s/step - accuracy: 0.9870 - loss: 0.0491 - val_accuracy: 0.9616 - val_loss: 0.1678\n",
      "Epoch 42/200\n",
      "46/46 - 83s - 2s/step - accuracy: 0.9877 - loss: 0.0475 - val_accuracy: 0.9656 - val_loss: 0.1592\n",
      "Epoch 43/200\n",
      "46/46 - 95s - 2s/step - accuracy: 0.9853 - loss: 0.0537 - val_accuracy: 0.9624 - val_loss: 0.1467\n",
      "Epoch 44/200\n",
      "46/46 - 94s - 2s/step - accuracy: 0.9890 - loss: 0.0377 - val_accuracy: 0.9656 - val_loss: 0.1556\n",
      "Epoch 45/200\n",
      "46/46 - 87s - 2s/step - accuracy: 0.9925 - loss: 0.0321 - val_accuracy: 0.9640 - val_loss: 0.1684\n",
      "Epoch 46/200\n",
      "46/46 - 78s - 2s/step - accuracy: 0.9904 - loss: 0.0376 - val_accuracy: 0.9640 - val_loss: 0.1609\n",
      "Epoch 47/200\n",
      "46/46 - 64s - 1s/step - accuracy: 0.9904 - loss: 0.0344 - val_accuracy: 0.9616 - val_loss: 0.1651\n",
      "Epoch 48/200\n",
      "46/46 - 78s - 2s/step - accuracy: 0.9904 - loss: 0.0300 - val_accuracy: 0.9648 - val_loss: 0.1758\n",
      "Epoch 49/200\n",
      "46/46 - 50s - 1s/step - accuracy: 0.9914 - loss: 0.0329 - val_accuracy: 0.9616 - val_loss: 0.1757\n",
      "Epoch 50/200\n",
      "46/46 - 60s - 1s/step - accuracy: 0.9921 - loss: 0.0281 - val_accuracy: 0.9640 - val_loss: 0.1643\n",
      "Epoch 51/200\n",
      "46/46 - 58s - 1s/step - accuracy: 0.9907 - loss: 0.0309 - val_accuracy: 0.9608 - val_loss: 0.1483\n",
      "Epoch 52/200\n",
      "46/46 - 58s - 1s/step - accuracy: 0.9894 - loss: 0.0343 - val_accuracy: 0.9616 - val_loss: 0.1612\n",
      "Epoch 53/200\n",
      "46/46 - 63s - 1s/step - accuracy: 0.9914 - loss: 0.0282 - val_accuracy: 0.9616 - val_loss: 0.1436\n",
      "Epoch 54/200\n",
      "46/46 - 58s - 1s/step - accuracy: 0.9907 - loss: 0.0286 - val_accuracy: 0.9616 - val_loss: 0.1462\n",
      "Epoch 55/200\n",
      "46/46 - 62s - 1s/step - accuracy: 0.9925 - loss: 0.0276 - val_accuracy: 0.9600 - val_loss: 0.1623\n",
      "Epoch 56/200\n",
      "46/46 - 59s - 1s/step - accuracy: 0.9914 - loss: 0.0260 - val_accuracy: 0.9600 - val_loss: 0.1461\n",
      "Epoch 57/200\n",
      "46/46 - 57s - 1s/step - accuracy: 0.9911 - loss: 0.0271 - val_accuracy: 0.9608 - val_loss: 0.1523\n",
      "Epoch 58/200\n",
      "46/46 - 56s - 1s/step - accuracy: 0.9931 - loss: 0.0227 - val_accuracy: 0.9616 - val_loss: 0.1549\n",
      "Epoch 59/200\n",
      "46/46 - 60s - 1s/step - accuracy: 0.9921 - loss: 0.0251 - val_accuracy: 0.9608 - val_loss: 0.1554\n",
      "Epoch 60/200\n",
      "46/46 - 60s - 1s/step - accuracy: 0.9914 - loss: 0.0223 - val_accuracy: 0.9600 - val_loss: 0.1596\n",
      "Epoch 61/200\n",
      "46/46 - 58s - 1s/step - accuracy: 0.9928 - loss: 0.0269 - val_accuracy: 0.9680 - val_loss: 0.1433\n",
      "Epoch 62/200\n",
      "46/46 - 56s - 1s/step - accuracy: 0.9921 - loss: 0.0217 - val_accuracy: 0.9648 - val_loss: 0.1613\n",
      "Epoch 63/200\n",
      "46/46 - 56s - 1s/step - accuracy: 0.9925 - loss: 0.0234 - val_accuracy: 0.9616 - val_loss: 0.1424\n",
      "Epoch 64/200\n",
      "46/46 - 56s - 1s/step - accuracy: 0.9914 - loss: 0.0247 - val_accuracy: 0.9568 - val_loss: 0.1743\n",
      "Epoch 65/200\n",
      "46/46 - 88s - 2s/step - accuracy: 0.9928 - loss: 0.0212 - val_accuracy: 0.9592 - val_loss: 0.1564\n",
      "Epoch 66/200\n",
      "46/46 - 56s - 1s/step - accuracy: 0.9921 - loss: 0.0205 - val_accuracy: 0.9632 - val_loss: 0.1592\n",
      "Epoch 67/200\n",
      "46/46 - 56s - 1s/step - accuracy: 0.9914 - loss: 0.0215 - val_accuracy: 0.9600 - val_loss: 0.1509\n",
      "Epoch 68/200\n",
      "46/46 - 56s - 1s/step - accuracy: 0.9928 - loss: 0.0212 - val_accuracy: 0.9648 - val_loss: 0.1646\n",
      "Epoch 69/200\n",
      "46/46 - 58s - 1s/step - accuracy: 0.9914 - loss: 0.0205 - val_accuracy: 0.9624 - val_loss: 0.1542\n",
      "Epoch 70/200\n",
      "46/46 - 61s - 1s/step - accuracy: 0.9925 - loss: 0.0189 - val_accuracy: 0.9640 - val_loss: 0.1599\n",
      "Epoch 71/200\n",
      "46/46 - 61s - 1s/step - accuracy: 0.9931 - loss: 0.0170 - val_accuracy: 0.9656 - val_loss: 0.1588\n",
      "Epoch 72/200\n",
      "46/46 - 63s - 1s/step - accuracy: 0.9935 - loss: 0.0198 - val_accuracy: 0.9632 - val_loss: 0.1617\n",
      "Epoch 73/200\n",
      "46/46 - 84s - 2s/step - accuracy: 0.9914 - loss: 0.0196 - val_accuracy: 0.9624 - val_loss: 0.1676\n"
     ]
    }
   ],
   "source": [
    "history = model.fit(\n",
    "    x = x_train,# eğitim verilerini görüntülemek için\n",
    "    y = y_train,#eğiitm veirlerinin etiketlerini görüntülemek için\n",
    "    validation_data= (x_test,y_test),#doğrula verisi ve etiketleri\n",
    "    batch_size = 64,#her adımda 64 örnek üzerinden ağırlıkları güncele\n",
    "    epochs=200,#max 200 kez tüm veri setini dolaş erken durudmr olabilir\n",
    "    callbacks=[early_stopping],#eğer model uzun süre iyileşme göstermeze eğitimi durdur\n",
    "    verbose=(2),#eğitim sırasında detaylı çıktılar yazdır\n",
    ")"
   ]
  },
  {
   "cell_type": "markdown",
   "metadata": {},
   "source": [
    "### history model.fit() fonksiyonundan dönen ve eğitim sürecinde her epochta oluşan kayıp ve doğruluk değerlerini tutan bir nesne\n",
    "### history.history bu nesnein içinde loss, val_loss, accuracy, val_accuracy gibi verileri tutar\n",
    "### history_frame = pd.DataFrame(history.history) bu satırdaki kod bütün bu kayıtları pandas dataframe çeviriyoruz ki üzerinde işlem ve görseleştirme yapmak kolay olsun\n",
    "### .loc[:, ['loss','val_loss']].plot() → Eğitim kaybı (loss) ve doğrulama kaybı (val_loss) grafiğini çizdiriyoruz.\n",
    "### .loc[:, ['accuracy','val_accuracy']].plot() → Eğitim doğruluğu (accuracy) ve doğrulama doğruluğu (val_accuracy) grafiğini çizdiriyoruz.\n"
   ]
  },
  {
   "cell_type": "code",
   "execution_count": 16,
   "metadata": {},
   "outputs": [
    {
     "data": {
      "image/png": "[encoded data removed]",
      "text/plain": [
       "<Figure size 640x480 with 1 Axes>"
      ]
     },
     "metadata": {},
     "output_type": "display_data"
    },
    {
     "data": {
      "image/png": "[encoded data removed]",
      "text/plain": [
       "<Figure size 640x480 with 1 Axes>"
      ]
     },
     "metadata": {},
     "output_type": "display_data"
    }
   ],
   "source": [
    "history_frame = pd.DataFrame(history.history)\n",
    "history_frame.loc[:, ['loss','val_loss']].plot()\n",
    "history_frame.loc[:, ['accuracy','val_accuracy']].plot();"
   ]
  },
  {
   "cell_type": "markdown",
   "metadata": {},
   "source": [
    "### Bu grafikelrin çıktıları özellikel overfitting durumunu gözlememiz için çok güçlü bir analiz sağlıyor\n",
    "### loss vs val_loss başlangıçta bu değerler yüksektir çünkü model öğrenmeye yeni başlamıştır epoch ilerledikçe azalmaya başlar ancak 20.epochta aralarında küçük farkalr başalr bu fark bize overfitting riskinin yavaş yavaş oluşmaya başladığını modein eğitim verisini çok iyi öğrendiğini bu yüzden hatanın düştüğünü ancak ezberlediği için geneleme yeteneğini kaybetiği için test'deki hatanın yükseldiğini görüyoruz yani görmediği veriler için dopru tahmin yapma oranı düşük çünkü aslında gerçekten amaçladığımız öğrenme işini yapmadı ezberlemeye başladı"
   ]
  },
  {
   "cell_type": "markdown",
   "metadata": {},
   "source": [
    "### Accuracy Val_Accuracy başlangıçta doğruluk düşük ve hzılı artıyor 20.epochdan sonra doğruluk neredeyse %100'e ulaşıyor val_accuracy ise %95 civarında sabit kalıyor aradaki fark yine overfitting belirtisi model eğitim verisinde mükemel performans gösteriyor ancak hiç görmediği doğrulama versinde daha düşük başarı sağlıyor çünkü geneleme yeteneğini kaybedip ezberleme yaptığı için modle başarısı düşüyor."
   ]
  },
  {
   "cell_type": "markdown",
   "metadata": {},
   "source": [
    "### Bu kod modelin yaptığı tahminelri ikili binary hale getirir modelin test verileri üzerinden tahminler yapmasını sağlayarak 0.5'Den küçükse 0 büyükse 1 yapar tahmin sonuçlarını int veri tipine dönüştürerek tam sayı hale getirir"
   ]
  },
  {
   "cell_type": "code",
   "execution_count": 17,
   "metadata": {},
   "outputs": [
    {
     "name": "stdout",
     "output_type": "stream",
     "text": [
      "\u001b[1m40/40\u001b[0m \u001b[32m━━━━━━━━━━━━━━━━━━━━\u001b[0m\u001b[37m\u001b[0m \u001b[1m7s\u001b[0m 140ms/step\n"
     ]
    }
   ],
   "source": [
    "pred = model.predict(x_test)\n",
    "\n",
    "for i in range(len(pred)):\n",
    "    if pred[i] > 0.5:\n",
    "        pred[i] = 1\n",
    "    else:\n",
    "        pred[i] = 0\n",
    "     \n",
    "pred = pred.astype(int)"
   ]
  },
  {
   "cell_type": "code",
   "execution_count": 18,
   "metadata": {},
   "outputs": [
    {
     "data": {
      "text/plain": [
       "'              precision    recall  f1-score   support\\n\\n           0       0.97      0.95      0.96       613\\n           1       0.95      0.97      0.96       637\\n\\n    accuracy                           0.96      1250\\n   macro avg       0.96      0.96      0.96      1250\\nweighted avg       0.96      0.96      0.96      1250\\n'"
      ]
     },
     "execution_count": 18,
     "metadata": {},
     "output_type": "execute_result"
    }
   ],
   "source": [
    "#creating a classification report\n",
    "classification_report(y_test, pred)"
   ]
  },
  {
   "cell_type": "markdown",
   "metadata": {},
   "source": [
    "# AlexNet modlinin tanıltıldığım makaleyi okuduğumda onların PCA on the set of RGB bir diğeri  layers.RandomCrop(224, 224),  kodunu uygulayarak  256x256'lık img'den sol alt üst  sağ alt üst ve merkez 224x224 boyutlarında kırpmalar yapar  bu şekilde ilk etata 5 görğntü ardından RandomFlip('horizontal')  bunu uyguklayarak ise x2'den total bir img'den 10 tane farklı image oluşturur"
   ]
  },
  {
   "cell_type": "markdown",
   "metadata": {},
   "source": [
    "### 4.3 Adding data agumentation"
   ]
  },
  {
   "cell_type": "markdown",
   "metadata": {},
   "source": [
    "# Data Augumentation sayesinde veri artırılarak overfitting önlenir örneğin layers.RandomFlip('horizontal') burda görüntü yatay olarak rastgele çevrilir bu sayede aynı zamanda model yansıtılımış varyasyonalra karşı daha dayanıklı hale gelir\n",
    "# layers.RandomRotation(0.2),         # Rastgele döndürme (%20)\n",
    "# layers.RandomZoom(0.1),             # Yakınlaştırma (%10)\n",
    "# layers.RandomContrast(0.2), bu şekilde farklı yöntmelerde kullanılabilir\n"
   ]
  },
  {
   "cell_type": "code",
   "execution_count": 21,
   "metadata": {},
   "outputs": [],
   "source": [
    "from tensorflow import keras\n",
    "from tensorflow.keras import layers\n",
    "\n",
    "model = keras.Sequential([\n",
    "    layers.RandomFlip('horizontal'),  # ✅ Hata düzeltildi\n",
    "    layers.Conv2D(filters=32, kernel_size=(5,5), activation=\"relu\", padding='same', input_shape=[128, 128, 3]),\n",
    "    layers.MaxPool2D(),\n",
    "    \n",
    "    layers.Conv2D(filters=64, kernel_size=(3,3), activation=\"relu\", padding='same'),\n",
    "    layers.MaxPool2D(),\n",
    "    \n",
    "    layers.Conv2D(filters=128, kernel_size=(3,3), activation=\"relu\", padding='same'),\n",
    "    layers.MaxPool2D(),\n",
    "    \n",
    "    layers.Conv2D(filters=128, kernel_size=(3,3), activation=\"relu\", padding='same'),\n",
    "    layers.MaxPool2D(),\n",
    "    \n",
    "    layers.Flatten(),\n",
    "    layers.Dropout(.25),\n",
    "    layers.Dense(units=256, activation=\"relu\"),\n",
    "    layers.Dense(units=1, activation=\"sigmoid\"),\n",
    "])\n",
    "\n"
   ]
  },
  {
   "cell_type": "code",
   "execution_count": 23,
   "metadata": {},
   "outputs": [],
   "source": [
    "model.compile(\n",
    "    optimizer=tf.keras.optimizers.Adam(epsilon=0.01),\n",
    "    loss='binary_crossentropy',\n",
    "    metrics=['accuracy']\n",
    ")\n",
    "\n",
    "#including early stopping to revent overfitting\n",
    "early_stopping = keras.callbacks.EarlyStopping(\n",
    "    patience=30,\n",
    "    min_delta=0.001,\n",
    "    restore_best_weights=True,\n",
    ")"
   ]
  },
  {
   "cell_type": "code",
   "execution_count": 24,
   "metadata": {},
   "outputs": [
    {
     "name": "stdout",
     "output_type": "stream",
     "text": [
      "Epoch 1/200\n",
      "46/46 - 67s - 1s/step - accuracy: 0.6036 - loss: 0.6787 - val_accuracy: 0.6728 - val_loss: 0.6551\n",
      "Epoch 2/200\n",
      "46/46 - 60s - 1s/step - accuracy: 0.6674 - loss: 0.6340 - val_accuracy: 0.6864 - val_loss: 0.6118\n",
      "Epoch 3/200\n",
      "46/46 - 96s - 2s/step - accuracy: 0.6742 - loss: 0.6055 - val_accuracy: 0.7032 - val_loss: 0.5943\n",
      "Epoch 4/200\n",
      "46/46 - 71s - 2s/step - accuracy: 0.6886 - loss: 0.5917 - val_accuracy: 0.6832 - val_loss: 0.5753\n",
      "Epoch 5/200\n",
      "46/46 - 78s - 2s/step - accuracy: 0.6910 - loss: 0.5814 - val_accuracy: 0.6928 - val_loss: 0.5640\n",
      "Epoch 6/200\n",
      "46/46 - 83s - 2s/step - accuracy: 0.6992 - loss: 0.5613 - val_accuracy: 0.7064 - val_loss: 0.5402\n",
      "Epoch 7/200\n",
      "46/46 - 104s - 2s/step - accuracy: 0.7171 - loss: 0.5351 - val_accuracy: 0.7248 - val_loss: 0.5149\n",
      "Epoch 8/200\n",
      "46/46 - 76s - 2s/step - accuracy: 0.7517 - loss: 0.4994 - val_accuracy: 0.7592 - val_loss: 0.4829\n",
      "Epoch 9/200\n",
      "46/46 - 77s - 2s/step - accuracy: 0.7730 - loss: 0.4666 - val_accuracy: 0.7872 - val_loss: 0.4380\n",
      "Epoch 10/200\n",
      "46/46 - 81s - 2s/step - accuracy: 0.7905 - loss: 0.4422 - val_accuracy: 0.8104 - val_loss: 0.4067\n",
      "Epoch 11/200\n",
      "46/46 - 77s - 2s/step - accuracy: 0.7994 - loss: 0.4298 - val_accuracy: 0.8320 - val_loss: 0.3907\n",
      "Epoch 12/200\n",
      "46/46 - 61s - 1s/step - accuracy: 0.8306 - loss: 0.3884 - val_accuracy: 0.8400 - val_loss: 0.3685\n",
      "Epoch 13/200\n",
      "46/46 - 63s - 1s/step - accuracy: 0.8378 - loss: 0.3682 - val_accuracy: 0.8472 - val_loss: 0.3566\n",
      "Epoch 14/200\n",
      "46/46 - 62s - 1s/step - accuracy: 0.8395 - loss: 0.3614 - val_accuracy: 0.8752 - val_loss: 0.3325\n",
      "Epoch 15/200\n",
      "46/46 - 60s - 1s/step - accuracy: 0.8642 - loss: 0.3285 - val_accuracy: 0.8904 - val_loss: 0.3094\n",
      "Epoch 16/200\n",
      "46/46 - 58s - 1s/step - accuracy: 0.8831 - loss: 0.2885 - val_accuracy: 0.8912 - val_loss: 0.2885\n",
      "Epoch 17/200\n",
      "46/46 - 59s - 1s/step - accuracy: 0.8916 - loss: 0.2836 - val_accuracy: 0.8968 - val_loss: 0.2875\n",
      "Epoch 18/200\n",
      "46/46 - 56s - 1s/step - accuracy: 0.9084 - loss: 0.2400 - val_accuracy: 0.9088 - val_loss: 0.2807\n",
      "Epoch 19/200\n",
      "46/46 - 57s - 1s/step - accuracy: 0.8971 - loss: 0.2571 - val_accuracy: 0.9072 - val_loss: 0.2615\n",
      "Epoch 20/200\n",
      "46/46 - 58s - 1s/step - accuracy: 0.9218 - loss: 0.2186 - val_accuracy: 0.9024 - val_loss: 0.2589\n",
      "Epoch 21/200\n",
      "46/46 - 56s - 1s/step - accuracy: 0.9259 - loss: 0.1993 - val_accuracy: 0.9336 - val_loss: 0.2138\n",
      "Epoch 22/200\n",
      "46/46 - 63s - 1s/step - accuracy: 0.9400 - loss: 0.1724 - val_accuracy: 0.9352 - val_loss: 0.2152\n",
      "Epoch 23/200\n",
      "46/46 - 59s - 1s/step - accuracy: 0.9444 - loss: 0.1532 - val_accuracy: 0.9240 - val_loss: 0.2338\n",
      "Epoch 24/200\n",
      "46/46 - 60s - 1s/step - accuracy: 0.9307 - loss: 0.1900 - val_accuracy: 0.9416 - val_loss: 0.1926\n",
      "Epoch 25/200\n",
      "46/46 - 61s - 1s/step - accuracy: 0.9468 - loss: 0.1524 - val_accuracy: 0.9328 - val_loss: 0.2261\n",
      "Epoch 26/200\n",
      "46/46 - 59s - 1s/step - accuracy: 0.9506 - loss: 0.1365 - val_accuracy: 0.9536 - val_loss: 0.1918\n",
      "Epoch 27/200\n",
      "46/46 - 60s - 1s/step - accuracy: 0.9537 - loss: 0.1447 - val_accuracy: 0.9360 - val_loss: 0.1958\n",
      "Epoch 28/200\n",
      "46/46 - 62s - 1s/step - accuracy: 0.9568 - loss: 0.1262 - val_accuracy: 0.9408 - val_loss: 0.1895\n",
      "Epoch 29/200\n",
      "46/46 - 65s - 1s/step - accuracy: 0.9619 - loss: 0.1064 - val_accuracy: 0.9528 - val_loss: 0.1648\n",
      "Epoch 30/200\n",
      "46/46 - 59s - 1s/step - accuracy: 0.9691 - loss: 0.0975 - val_accuracy: 0.9616 - val_loss: 0.1513\n",
      "Epoch 31/200\n",
      "46/46 - 58s - 1s/step - accuracy: 0.9647 - loss: 0.1005 - val_accuracy: 0.9600 - val_loss: 0.1690\n",
      "Epoch 32/200\n",
      "46/46 - 61s - 1s/step - accuracy: 0.9657 - loss: 0.1050 - val_accuracy: 0.9568 - val_loss: 0.1598\n",
      "Epoch 33/200\n",
      "46/46 - 62s - 1s/step - accuracy: 0.9760 - loss: 0.0829 - val_accuracy: 0.9552 - val_loss: 0.1561\n",
      "Epoch 34/200\n",
      "46/46 - 61s - 1s/step - accuracy: 0.9787 - loss: 0.0720 - val_accuracy: 0.9560 - val_loss: 0.1524\n",
      "Epoch 35/200\n",
      "46/46 - 63s - 1s/step - accuracy: 0.9770 - loss: 0.0694 - val_accuracy: 0.9584 - val_loss: 0.1558\n",
      "Epoch 36/200\n",
      "46/46 - 58s - 1s/step - accuracy: 0.9808 - loss: 0.0739 - val_accuracy: 0.9608 - val_loss: 0.1567\n",
      "Epoch 37/200\n",
      "46/46 - 60s - 1s/step - accuracy: 0.9801 - loss: 0.0637 - val_accuracy: 0.9640 - val_loss: 0.1672\n",
      "Epoch 38/200\n",
      "46/46 - 59s - 1s/step - accuracy: 0.9781 - loss: 0.0796 - val_accuracy: 0.9632 - val_loss: 0.1671\n",
      "Epoch 39/200\n",
      "46/46 - 60s - 1s/step - accuracy: 0.9839 - loss: 0.0532 - val_accuracy: 0.9632 - val_loss: 0.1730\n",
      "Epoch 40/200\n",
      "46/46 - 57s - 1s/step - accuracy: 0.9835 - loss: 0.0654 - val_accuracy: 0.9496 - val_loss: 0.1910\n",
      "Epoch 41/200\n",
      "46/46 - 53s - 1s/step - accuracy: 0.9846 - loss: 0.0561 - val_accuracy: 0.9656 - val_loss: 0.1666\n",
      "Epoch 42/200\n",
      "46/46 - 54s - 1s/step - accuracy: 0.9859 - loss: 0.0474 - val_accuracy: 0.9632 - val_loss: 0.1561\n",
      "Epoch 43/200\n",
      "46/46 - 55s - 1s/step - accuracy: 0.9770 - loss: 0.0562 - val_accuracy: 0.9656 - val_loss: 0.1646\n",
      "Epoch 44/200\n",
      "46/46 - 60s - 1s/step - accuracy: 0.9829 - loss: 0.0526 - val_accuracy: 0.9632 - val_loss: 0.1714\n",
      "Epoch 45/200\n",
      "46/46 - 56s - 1s/step - accuracy: 0.9829 - loss: 0.0599 - val_accuracy: 0.9680 - val_loss: 0.1482\n",
      "Epoch 46/200\n",
      "46/46 - 54s - 1s/step - accuracy: 0.9859 - loss: 0.0448 - val_accuracy: 0.9544 - val_loss: 0.1694\n",
      "Epoch 47/200\n",
      "46/46 - 52s - 1s/step - accuracy: 0.9811 - loss: 0.0703 - val_accuracy: 0.9584 - val_loss: 0.1537\n",
      "Epoch 48/200\n",
      "46/46 - 51s - 1s/step - accuracy: 0.9849 - loss: 0.0487 - val_accuracy: 0.9624 - val_loss: 0.1709\n",
      "Epoch 49/200\n",
      "46/46 - 51s - 1s/step - accuracy: 0.9846 - loss: 0.0520 - val_accuracy: 0.9656 - val_loss: 0.1499\n",
      "Epoch 50/200\n",
      "46/46 - 52s - 1s/step - accuracy: 0.9921 - loss: 0.0328 - val_accuracy: 0.9648 - val_loss: 0.1563\n",
      "Epoch 51/200\n",
      "46/46 - 55s - 1s/step - accuracy: 0.9883 - loss: 0.0418 - val_accuracy: 0.9616 - val_loss: 0.1729\n",
      "Epoch 52/200\n",
      "46/46 - 54s - 1s/step - accuracy: 0.9901 - loss: 0.0394 - val_accuracy: 0.9656 - val_loss: 0.1625\n",
      "Epoch 53/200\n",
      "46/46 - 54s - 1s/step - accuracy: 0.9897 - loss: 0.0338 - val_accuracy: 0.9624 - val_loss: 0.1702\n",
      "Epoch 54/200\n",
      "46/46 - 54s - 1s/step - accuracy: 0.9897 - loss: 0.0395 - val_accuracy: 0.9616 - val_loss: 0.1528\n",
      "Epoch 55/200\n",
      "46/46 - 55s - 1s/step - accuracy: 0.9883 - loss: 0.0396 - val_accuracy: 0.9568 - val_loss: 0.1732\n",
      "Epoch 56/200\n",
      "46/46 - 62s - 1s/step - accuracy: 0.9897 - loss: 0.0361 - val_accuracy: 0.9624 - val_loss: 0.1414\n",
      "Epoch 57/200\n",
      "46/46 - 66s - 1s/step - accuracy: 0.9887 - loss: 0.0347 - val_accuracy: 0.9616 - val_loss: 0.1514\n",
      "Epoch 58/200\n",
      "46/46 - 57s - 1s/step - accuracy: 0.9914 - loss: 0.0284 - val_accuracy: 0.9656 - val_loss: 0.1545\n",
      "Epoch 59/200\n",
      "46/46 - 56s - 1s/step - accuracy: 0.9925 - loss: 0.0260 - val_accuracy: 0.9592 - val_loss: 0.1741\n",
      "Epoch 60/200\n",
      "46/46 - 56s - 1s/step - accuracy: 0.9911 - loss: 0.0349 - val_accuracy: 0.9648 - val_loss: 0.1602\n",
      "Epoch 61/200\n",
      "46/46 - 57s - 1s/step - accuracy: 0.9901 - loss: 0.0352 - val_accuracy: 0.9680 - val_loss: 0.1393\n",
      "Epoch 62/200\n",
      "46/46 - 57s - 1s/step - accuracy: 0.9901 - loss: 0.0315 - val_accuracy: 0.9680 - val_loss: 0.1519\n",
      "Epoch 63/200\n",
      "46/46 - 54s - 1s/step - accuracy: 0.9921 - loss: 0.0261 - val_accuracy: 0.9672 - val_loss: 0.1505\n",
      "Epoch 64/200\n",
      "46/46 - 53s - 1s/step - accuracy: 0.9914 - loss: 0.0280 - val_accuracy: 0.9632 - val_loss: 0.1743\n",
      "Epoch 65/200\n",
      "46/46 - 53s - 1s/step - accuracy: 0.9897 - loss: 0.0325 - val_accuracy: 0.9648 - val_loss: 0.1559\n",
      "Epoch 66/200\n",
      "46/46 - 54s - 1s/step - accuracy: 0.9921 - loss: 0.0278 - val_accuracy: 0.9672 - val_loss: 0.1661\n",
      "Epoch 67/200\n",
      "46/46 - 54s - 1s/step - accuracy: 0.9925 - loss: 0.0216 - val_accuracy: 0.9656 - val_loss: 0.1564\n",
      "Epoch 68/200\n",
      "46/46 - 53s - 1s/step - accuracy: 0.9907 - loss: 0.0287 - val_accuracy: 0.9624 - val_loss: 0.1526\n",
      "Epoch 69/200\n",
      "46/46 - 54s - 1s/step - accuracy: 0.9911 - loss: 0.0263 - val_accuracy: 0.9640 - val_loss: 0.1485\n",
      "Epoch 70/200\n",
      "46/46 - 54s - 1s/step - accuracy: 0.9935 - loss: 0.0237 - val_accuracy: 0.9648 - val_loss: 0.1618\n",
      "Epoch 71/200\n",
      "46/46 - 53s - 1s/step - accuracy: 0.9914 - loss: 0.0250 - val_accuracy: 0.9656 - val_loss: 0.1580\n",
      "Epoch 72/200\n",
      "46/46 - 58s - 1s/step - accuracy: 0.9914 - loss: 0.0289 - val_accuracy: 0.9632 - val_loss: 0.1471\n",
      "Epoch 73/200\n",
      "46/46 - 56s - 1s/step - accuracy: 0.9914 - loss: 0.0244 - val_accuracy: 0.9664 - val_loss: 0.1443\n",
      "Epoch 74/200\n",
      "46/46 - 55s - 1s/step - accuracy: 0.9907 - loss: 0.0279 - val_accuracy: 0.9680 - val_loss: 0.1372\n",
      "Epoch 75/200\n",
      "46/46 - 55s - 1s/step - accuracy: 0.9921 - loss: 0.0239 - val_accuracy: 0.9680 - val_loss: 0.1507\n",
      "Epoch 76/200\n",
      "46/46 - 55s - 1s/step - accuracy: 0.9935 - loss: 0.0235 - val_accuracy: 0.9672 - val_loss: 0.1482\n",
      "Epoch 77/200\n",
      "46/46 - 56s - 1s/step - accuracy: 0.9938 - loss: 0.0229 - val_accuracy: 0.9648 - val_loss: 0.1670\n",
      "Epoch 78/200\n",
      "46/46 - 56s - 1s/step - accuracy: 0.9904 - loss: 0.0244 - val_accuracy: 0.9672 - val_loss: 0.1402\n",
      "Epoch 79/200\n",
      "46/46 - 55s - 1s/step - accuracy: 0.9918 - loss: 0.0233 - val_accuracy: 0.9640 - val_loss: 0.1618\n",
      "Epoch 80/200\n",
      "46/46 - 55s - 1s/step - accuracy: 0.9928 - loss: 0.0224 - val_accuracy: 0.9640 - val_loss: 0.1607\n",
      "Epoch 81/200\n",
      "46/46 - 55s - 1s/step - accuracy: 0.9931 - loss: 0.0195 - val_accuracy: 0.9616 - val_loss: 0.1570\n",
      "Epoch 82/200\n",
      "46/46 - 55s - 1s/step - accuracy: 0.9918 - loss: 0.0241 - val_accuracy: 0.9640 - val_loss: 0.1455\n",
      "Epoch 83/200\n",
      "46/46 - 55s - 1s/step - accuracy: 0.9925 - loss: 0.0211 - val_accuracy: 0.9648 - val_loss: 0.1524\n",
      "Epoch 84/200\n",
      "46/46 - 55s - 1s/step - accuracy: 0.9925 - loss: 0.0231 - val_accuracy: 0.9664 - val_loss: 0.1328\n",
      "Epoch 85/200\n",
      "46/46 - 56s - 1s/step - accuracy: 0.9928 - loss: 0.0190 - val_accuracy: 0.9656 - val_loss: 0.1504\n",
      "Epoch 86/200\n",
      "46/46 - 55s - 1s/step - accuracy: 0.9945 - loss: 0.0184 - val_accuracy: 0.9680 - val_loss: 0.1422\n",
      "Epoch 87/200\n",
      "46/46 - 55s - 1s/step - accuracy: 0.9931 - loss: 0.0193 - val_accuracy: 0.9640 - val_loss: 0.1621\n",
      "Epoch 88/200\n",
      "46/46 - 57s - 1s/step - accuracy: 0.9931 - loss: 0.0222 - val_accuracy: 0.9672 - val_loss: 0.1426\n",
      "Epoch 89/200\n",
      "46/46 - 55s - 1s/step - accuracy: 0.9914 - loss: 0.0222 - val_accuracy: 0.9664 - val_loss: 0.1568\n",
      "Epoch 90/200\n",
      "46/46 - 55s - 1s/step - accuracy: 0.9918 - loss: 0.0241 - val_accuracy: 0.9688 - val_loss: 0.1475\n",
      "Epoch 91/200\n",
      "46/46 - 55s - 1s/step - accuracy: 0.9935 - loss: 0.0182 - val_accuracy: 0.9656 - val_loss: 0.1464\n",
      "Epoch 92/200\n",
      "46/46 - 55s - 1s/step - accuracy: 0.9928 - loss: 0.0201 - val_accuracy: 0.9680 - val_loss: 0.1595\n",
      "Epoch 93/200\n",
      "46/46 - 56s - 1s/step - accuracy: 0.9935 - loss: 0.0181 - val_accuracy: 0.9648 - val_loss: 0.1687\n",
      "Epoch 94/200\n",
      "46/46 - 56s - 1s/step - accuracy: 0.9942 - loss: 0.0160 - val_accuracy: 0.9680 - val_loss: 0.1620\n",
      "Epoch 95/200\n",
      "46/46 - 55s - 1s/step - accuracy: 0.9938 - loss: 0.0174 - val_accuracy: 0.9664 - val_loss: 0.1656\n",
      "Epoch 96/200\n",
      "46/46 - 56s - 1s/step - accuracy: 0.9938 - loss: 0.0167 - val_accuracy: 0.9696 - val_loss: 0.1635\n",
      "Epoch 97/200\n",
      "46/46 - 55s - 1s/step - accuracy: 0.9931 - loss: 0.0212 - val_accuracy: 0.9672 - val_loss: 0.1620\n",
      "Epoch 98/200\n",
      "46/46 - 56s - 1s/step - accuracy: 0.9945 - loss: 0.0174 - val_accuracy: 0.9664 - val_loss: 0.1563\n",
      "Epoch 99/200\n",
      "46/46 - 56s - 1s/step - accuracy: 0.9942 - loss: 0.0172 - val_accuracy: 0.9696 - val_loss: 0.1585\n",
      "Epoch 100/200\n",
      "46/46 - 57s - 1s/step - accuracy: 0.9931 - loss: 0.0172 - val_accuracy: 0.9712 - val_loss: 0.1537\n",
      "Epoch 101/200\n",
      "46/46 - 57s - 1s/step - accuracy: 0.9949 - loss: 0.0163 - val_accuracy: 0.9656 - val_loss: 0.1563\n",
      "Epoch 102/200\n",
      "46/46 - 56s - 1s/step - accuracy: 0.9935 - loss: 0.0158 - val_accuracy: 0.9640 - val_loss: 0.1594\n",
      "Epoch 103/200\n",
      "46/46 - 56s - 1s/step - accuracy: 0.9925 - loss: 0.0192 - val_accuracy: 0.9624 - val_loss: 0.1551\n",
      "Epoch 104/200\n",
      "46/46 - 57s - 1s/step - accuracy: 0.9921 - loss: 0.0170 - val_accuracy: 0.9640 - val_loss: 0.1539\n",
      "Epoch 105/200\n",
      "46/46 - 56s - 1s/step - accuracy: 0.9942 - loss: 0.0187 - val_accuracy: 0.9616 - val_loss: 0.1584\n",
      "Epoch 106/200\n",
      "46/46 - 56s - 1s/step - accuracy: 0.9911 - loss: 0.0216 - val_accuracy: 0.9632 - val_loss: 0.1386\n",
      "Epoch 107/200\n",
      "46/46 - 56s - 1s/step - accuracy: 0.9925 - loss: 0.0198 - val_accuracy: 0.9632 - val_loss: 0.1472\n",
      "Epoch 108/200\n",
      "46/46 - 56s - 1s/step - accuracy: 0.9931 - loss: 0.0186 - val_accuracy: 0.9632 - val_loss: 0.1593\n",
      "Epoch 109/200\n",
      "46/46 - 57s - 1s/step - accuracy: 0.9925 - loss: 0.0147 - val_accuracy: 0.9664 - val_loss: 0.1709\n",
      "Epoch 110/200\n",
      "46/46 - 57s - 1s/step - accuracy: 0.9935 - loss: 0.0184 - val_accuracy: 0.9616 - val_loss: 0.1547\n",
      "Epoch 111/200\n",
      "46/46 - 57s - 1s/step - accuracy: 0.9945 - loss: 0.0139 - val_accuracy: 0.9632 - val_loss: 0.1729\n",
      "Epoch 112/200\n",
      "46/46 - 79s - 2s/step - accuracy: 0.9928 - loss: 0.0203 - val_accuracy: 0.9648 - val_loss: 0.1583\n",
      "Epoch 113/200\n",
      "46/46 - 54s - 1s/step - accuracy: 0.9928 - loss: 0.0191 - val_accuracy: 0.9640 - val_loss: 0.1555\n",
      "Epoch 114/200\n",
      "46/46 - 57s - 1s/step - accuracy: 0.9942 - loss: 0.0159 - val_accuracy: 0.9624 - val_loss: 0.1649\n"
     ]
    }
   ],
   "source": [
    "history = model.fit(\n",
    "    x = x_train,\n",
    "    y = y_train,\n",
    "    validation_data= (x_test,y_test),\n",
    "    batch_size = 64,\n",
    "    epochs=200,\n",
    "    callbacks=[early_stopping],\n",
    "    verbose=(2),\n",
    ")"
   ]
  },
  {
   "cell_type": "code",
   "execution_count": 25,
   "metadata": {},
   "outputs": [
    {
     "data": {
      "image/png": "[encoded data removed]",
      "text/plain": [
       "<Figure size 640x480 with 1 Axes>"
      ]
     },
     "metadata": {},
     "output_type": "display_data"
    },
    {
     "data": {
      "image/png": "[encoded data removed]",
      "text/plain": [
       "<Figure size 640x480 with 1 Axes>"
      ]
     },
     "metadata": {},
     "output_type": "display_data"
    }
   ],
   "source": [
    "history_frame = pd.DataFrame(history.history)\n",
    "history_frame.loc[:, ['loss','val_loss']].plot()\n",
    "history_frame.loc[:, ['accuracy','val_accuracy']].plot();"
   ]
  },
  {
   "cell_type": "code",
   "execution_count": 26,
   "metadata": {},
   "outputs": [
    {
     "name": "stdout",
     "output_type": "stream",
     "text": [
      "\u001b[1m40/40\u001b[0m \u001b[32m━━━━━━━━━━━━━━━━━━━━\u001b[0m\u001b[37m\u001b[0m \u001b[1m7s\u001b[0m 161ms/step\n"
     ]
    }
   ],
   "source": [
    "pred = model.predict(x_test)\n",
    "\n",
    "for i in range(len(pred)):\n",
    "    if pred[i] > 0.5:\n",
    "        pred[i] = 1\n",
    "    else:\n",
    "        pred[i] = 0\n",
    "\n",
    "pred = pred.astype(int)"
   ]
  },
  {
   "cell_type": "code",
   "execution_count": 27,
   "metadata": {},
   "outputs": [
    {
     "data": {
      "text/plain": [
       "'              precision    recall  f1-score   support\\n\\n           0       0.97      0.96      0.97       613\\n           1       0.96      0.97      0.97       637\\n\\n    accuracy                           0.97      1250\\n   macro avg       0.97      0.97      0.97      1250\\nweighted avg       0.97      0.97      0.97      1250\\n'"
      ]
     },
     "execution_count": 27,
     "metadata": {},
     "output_type": "execute_result"
    }
   ],
   "source": [
    "#creating a classification report\n",
    "classification_report(y_test, pred)"
   ]
  },
  {
   "cell_type": "markdown",
   "metadata": {},
   "source": [
    "### Adding a pretrained model"
   ]
  },
  {
   "cell_type": "markdown",
   "metadata": {},
   "source": [
    "# VGG (Visual Geometry Group) Ağları\n",
    "### VGG ağı, 2014 yılında Oxford Üniversitesi'ndeki Visual Geometry Group (VGG) tarafından geliştirilen bir derin öğrenme mimarisidir. Genellikle görüntü sınıflandırma ve nesne tanıma görevlerinde kullanılır.\n",
    "# Bu tür bir önceden eğitilmiş model kullanma sebebimiz hali hazırda yüksek kaynak imkanı ve zaman vs önceden eğitilmiş ve elde edilmiş paramtreleri kullanrak kendi modleimize entegre ederek ardından kendi modleimize uygun bir yapıya çevirebilirz bu şekilde çokça kaynak tasarufu sağlamış oluruz"
   ]
  },
  {
   "cell_type": "markdown",
   "metadata": {},
   "source": [
    "# Kodda VGG Kullanımı:\n",
    "# VGG, genellikle Keras kütüphanesinde yer alan bir modeldir ve kolayca yüklenebilir.\n",
    "# VGG16 Modelinin Yüklenmesi:\n",
    "# weights='imagenet': Önceden eğitilmiş ImageNet ağırlıklarını kullanır.\n",
    "# include_top=False: Üstteki sınıflandırma katmanını çıkarır, sadece özellik çıkarım katmanlarını kullanır."
   ]
  },
  {
   "cell_type": "markdown",
   "metadata": {},
   "source": [
    "#  Neden VGG Kullanmalıyız?\n",
    "Derin Yapısı: Yüksek doğruluğa ulaşmak için derin bir mimari sunar.\n",
    "Transfer Öğrenme: ImageNet gibi geniş veri setleriyle eğitildiği için özellik çıkarımında oldukça başarılıdır.\n",
    "Özellik Çıkarımı: Küçük filtrelerle daha fazla ayrıntı öğrenebilir.\n",
    "Model Performansı İyileştirme İpuçları:\n",
    "Ağır Ağ Yapısı: Eğitim süresi uzundur, GPU kullanmak önemlidir.\n",
    "Dropout Kullanımı: Aşırı öğrenmeyi azaltmak için uygundur.\n",
    "Veri Artırma: Daha fazla çeşitlilik katmak için veri artırma teknikleriyle birlikte kullanılabilir.\n",
    "VGG16 ve VGG19 gibi modeller, daha büyük ve daha karmaşık veri setlerinde genellikle daha iyi sonuçlar verir."
   ]
  },
  {
   "cell_type": "code",
   "execution_count": null,
   "metadata": {},
   "outputs": [
    {
     "name": "stdout",
     "output_type": "stream",
     "text": [
      "Downloading data from https://storage.googleapis.com/tensorflow/keras-applications/vgg16/vgg16_weights_tf_dim_ordering_tf_kernels_notop.h5\n",
      "\u001b[1m58889256/58889256\u001b[0m \u001b[32m━━━━━━━━━━━━━━━━━━━━\u001b[0m\u001b[37m\u001b[0m \u001b[1m124s\u001b[0m 2us/step\n"
     ]
    }
   ],
   "source": [
    "# load base model\n",
    "from tensorflow.keras.utils import get_file\n",
    "\n",
    "vgg16_weight_path = get_file(\n",
    "    \"vgg16_weights_tf_dim_ordering_tf_kernels_notop.h5\",\n",
    "    \"https://storage.googleapis.com/tensorflow/keras-applications/vgg16/vgg16_weights_tf_dim_ordering_tf_kernels_notop.h5\",\n",
    "    cache_subdir=\"models\"\n",
    ")\n",
    "\n",
    "# Şimdi ağırlıkları dosyadan yükleyerek modeli oluştur\n",
    "base_model = VGG16(\n",
    "    weights=vgg16_weight_path,\n",
    "    include_top=False,\n",
    "    input_shape=(128,128,3)\n",
    "    )\n"
   ]
  },
  {
   "cell_type": "code",
   "execution_count": 36,
   "metadata": {},
   "outputs": [
    {
     "data": {
      "text/html": [
       "<pre style=\"white-space:pre;overflow-x:auto;line-height:normal;font-family:Menlo,'DejaVu Sans Mono',consolas,'Courier New',monospace\"><span style=\"font-weight: bold\">Model: \"sequential_3\"</span>\n",
       "</pre>\n"
      ],
      "text/plain": [
       "\u001b[1mModel: \"sequential_3\"\u001b[0m\n"
      ]
     },
     "metadata": {},
     "output_type": "display_data"
    },
    {
     "data": {
      "text/html": [
       "<pre style=\"white-space:pre;overflow-x:auto;line-height:normal;font-family:Menlo,'DejaVu Sans Mono',consolas,'Courier New',monospace\">┏━━━━━━━━━━━━━━━━━━━━━━━━━━━━━━━━━┳━━━━━━━━━━━━━━━━━━━━━━━━┳━━━━━━━━━━━━━━━┓\n",
       "┃<span style=\"font-weight: bold\"> Layer (type)                    </span>┃<span style=\"font-weight: bold\"> Output Shape           </span>┃<span style=\"font-weight: bold\">       Param # </span>┃\n",
       "┡━━━━━━━━━━━━━━━━━━━━━━━━━━━━━━━━━╇━━━━━━━━━━━━━━━━━━━━━━━━╇━━━━━━━━━━━━━━━┩\n",
       "│ random_flip_2 (<span style=\"color: #0087ff; text-decoration-color: #0087ff\">RandomFlip</span>)      │ ?                      │   <span style=\"color: #00af00; text-decoration-color: #00af00\">0</span> (unbuilt) │\n",
       "├─────────────────────────────────┼────────────────────────┼───────────────┤\n",
       "│ vgg16 (<span style=\"color: #0087ff; text-decoration-color: #0087ff\">Functional</span>)              │ (<span style=\"color: #00d7ff; text-decoration-color: #00d7ff\">None</span>, <span style=\"color: #00af00; text-decoration-color: #00af00\">4</span>, <span style=\"color: #00af00; text-decoration-color: #00af00\">4</span>, <span style=\"color: #00af00; text-decoration-color: #00af00\">512</span>)      │    <span style=\"color: #00af00; text-decoration-color: #00af00\">14,714,688</span> │\n",
       "├─────────────────────────────────┼────────────────────────┼───────────────┤\n",
       "│ flatten_3 (<span style=\"color: #0087ff; text-decoration-color: #0087ff\">Flatten</span>)             │ ?                      │   <span style=\"color: #00af00; text-decoration-color: #00af00\">0</span> (unbuilt) │\n",
       "├─────────────────────────────────┼────────────────────────┼───────────────┤\n",
       "│ dropout_3 (<span style=\"color: #0087ff; text-decoration-color: #0087ff\">Dropout</span>)             │ ?                      │             <span style=\"color: #00af00; text-decoration-color: #00af00\">0</span> │\n",
       "├─────────────────────────────────┼────────────────────────┼───────────────┤\n",
       "│ dense_6 (<span style=\"color: #0087ff; text-decoration-color: #0087ff\">Dense</span>)                 │ ?                      │   <span style=\"color: #00af00; text-decoration-color: #00af00\">0</span> (unbuilt) │\n",
       "├─────────────────────────────────┼────────────────────────┼───────────────┤\n",
       "│ dense_7 (<span style=\"color: #0087ff; text-decoration-color: #0087ff\">Dense</span>)                 │ ?                      │   <span style=\"color: #00af00; text-decoration-color: #00af00\">0</span> (unbuilt) │\n",
       "└─────────────────────────────────┴────────────────────────┴───────────────┘\n",
       "</pre>\n"
      ],
      "text/plain": [
       "┏━━━━━━━━━━━━━━━━━━━━━━━━━━━━━━━━━┳━━━━━━━━━━━━━━━━━━━━━━━━┳━━━━━━━━━━━━━━━┓\n",
       "┃\u001b[1m \u001b[0m\u001b[1mLayer (type)                   \u001b[0m\u001b[1m \u001b[0m┃\u001b[1m \u001b[0m\u001b[1mOutput Shape          \u001b[0m\u001b[1m \u001b[0m┃\u001b[1m \u001b[0m\u001b[1m      Param #\u001b[0m\u001b[1m \u001b[0m┃\n",
       "┡━━━━━━━━━━━━━━━━━━━━━━━━━━━━━━━━━╇━━━━━━━━━━━━━━━━━━━━━━━━╇━━━━━━━━━━━━━━━┩\n",
       "│ random_flip_2 (\u001b[38;5;33mRandomFlip\u001b[0m)      │ ?                      │   \u001b[38;5;34m0\u001b[0m (unbuilt) │\n",
       "├─────────────────────────────────┼────────────────────────┼───────────────┤\n",
       "│ vgg16 (\u001b[38;5;33mFunctional\u001b[0m)              │ (\u001b[38;5;45mNone\u001b[0m, \u001b[38;5;34m4\u001b[0m, \u001b[38;5;34m4\u001b[0m, \u001b[38;5;34m512\u001b[0m)      │    \u001b[38;5;34m14,714,688\u001b[0m │\n",
       "├─────────────────────────────────┼────────────────────────┼───────────────┤\n",
       "│ flatten_3 (\u001b[38;5;33mFlatten\u001b[0m)             │ ?                      │   \u001b[38;5;34m0\u001b[0m (unbuilt) │\n",
       "├─────────────────────────────────┼────────────────────────┼───────────────┤\n",
       "│ dropout_3 (\u001b[38;5;33mDropout\u001b[0m)             │ ?                      │             \u001b[38;5;34m0\u001b[0m │\n",
       "├─────────────────────────────────┼────────────────────────┼───────────────┤\n",
       "│ dense_6 (\u001b[38;5;33mDense\u001b[0m)                 │ ?                      │   \u001b[38;5;34m0\u001b[0m (unbuilt) │\n",
       "├─────────────────────────────────┼────────────────────────┼───────────────┤\n",
       "│ dense_7 (\u001b[38;5;33mDense\u001b[0m)                 │ ?                      │   \u001b[38;5;34m0\u001b[0m (unbuilt) │\n",
       "└─────────────────────────────────┴────────────────────────┴───────────────┘\n"
      ]
     },
     "metadata": {},
     "output_type": "display_data"
    },
    {
     "data": {
      "text/html": [
       "<pre style=\"white-space:pre;overflow-x:auto;line-height:normal;font-family:Menlo,'DejaVu Sans Mono',consolas,'Courier New',monospace\"><span style=\"font-weight: bold\"> Total params: </span><span style=\"color: #00af00; text-decoration-color: #00af00\">14,714,688</span> (56.13 MB)\n",
       "</pre>\n"
      ],
      "text/plain": [
       "\u001b[1m Total params: \u001b[0m\u001b[38;5;34m14,714,688\u001b[0m (56.13 MB)\n"
      ]
     },
     "metadata": {},
     "output_type": "display_data"
    },
    {
     "data": {
      "text/html": [
       "<pre style=\"white-space:pre;overflow-x:auto;line-height:normal;font-family:Menlo,'DejaVu Sans Mono',consolas,'Courier New',monospace\"><span style=\"font-weight: bold\"> Trainable params: </span><span style=\"color: #00af00; text-decoration-color: #00af00\">14,714,688</span> (56.13 MB)\n",
       "</pre>\n"
      ],
      "text/plain": [
       "\u001b[1m Trainable params: \u001b[0m\u001b[38;5;34m14,714,688\u001b[0m (56.13 MB)\n"
      ]
     },
     "metadata": {},
     "output_type": "display_data"
    },
    {
     "data": {
      "text/html": [
       "<pre style=\"white-space:pre;overflow-x:auto;line-height:normal;font-family:Menlo,'DejaVu Sans Mono',consolas,'Courier New',monospace\"><span style=\"font-weight: bold\"> Non-trainable params: </span><span style=\"color: #00af00; text-decoration-color: #00af00\">0</span> (0.00 B)\n",
       "</pre>\n"
      ],
      "text/plain": [
       "\u001b[1m Non-trainable params: \u001b[0m\u001b[38;5;34m0\u001b[0m (0.00 B)\n"
      ]
     },
     "metadata": {},
     "output_type": "display_data"
    }
   ],
   "source": [
    "from tensorflow.keras import layers\n",
    "from tensorflow.keras.models import Sequential\n",
    "from tensorflow.keras.applications import VGG16\n",
    "\n",
    "# VGG16 Modelini Yükle\n",
    "base_model = VGG16(weights=\"imagenet\", include_top=False, input_shape=(128, 128, 3))\n",
    "\n",
    "# Modeli Tanımla\n",
    "model = Sequential([\n",
    "    layers.RandomFlip('horizontal'),  # ✅ preprocessing yerine layers.RandomFlip\n",
    "    \n",
    "    base_model,  # ✅ VGG16 modeli\n",
    "    \n",
    "    layers.Flatten(),\n",
    "    layers.Dropout(0.25),\n",
    "    layers.Dense(units=256, activation=\"relu\"),\n",
    "    layers.Dense(units=1, activation=\"sigmoid\"),\n",
    "])\n",
    "\n",
    "model.summary()  # Model özetini yazdır\n"
   ]
  },
  {
   "cell_type": "code",
   "execution_count": 37,
   "metadata": {},
   "outputs": [],
   "source": [
    "model.compile(\n",
    "    optimizer=tf.keras.optimizers.Adam(epsilon=0.01),\n",
    "    loss='binary_crossentropy',\n",
    "    metrics=['accuracy']\n",
    ")\n",
    "\n",
    "#including early stopping to revent overfitting\n",
    "early_stopping = keras.callbacks.EarlyStopping(\n",
    "    patience=40,\n",
    "    min_delta=0.001,\n",
    "    restore_best_weights=True,\n",
    ")"
   ]
  },
  {
   "cell_type": "code",
   "execution_count": null,
   "metadata": {},
   "outputs": [
    {
     "name": "stderr",
     "output_type": "stream",
     "text": [
      "WARNING:absl:Compiled the loaded model, but the compiled metrics have yet to be built. `model.compile_metrics` will be empty until you train or evaluate the model.\n"
     ]
    },
    {
     "ename": "MemoryError",
     "evalue": "Unable to allocate 547. MiB for an array with shape (2916, 128, 128, 3) and data type float32",
     "output_type": "error",
     "traceback": [
      "\u001b[1;31m---------------------------------------------------------------------------\u001b[0m",
      "\u001b[1;31mMemoryError\u001b[0m                               Traceback (most recent call last)",
      "Cell \u001b[1;32mIn[42], line 19\u001b[0m\n\u001b[0;32m     10\u001b[0m checkpoint \u001b[38;5;241m=\u001b[39m ModelCheckpoint(\n\u001b[0;32m     11\u001b[0m     \u001b[38;5;124m\"\u001b[39m\u001b[38;5;124mmodel_epoch_\u001b[39m\u001b[38;5;132;01m{epoch:02d}\u001b[39;00m\u001b[38;5;124m_val_acc_\u001b[39m\u001b[38;5;132;01m{val_accuracy:.4f}\u001b[39;00m\u001b[38;5;124m.h5\u001b[39m\u001b[38;5;124m\"\u001b[39m,\n\u001b[0;32m     12\u001b[0m     monitor\u001b[38;5;241m=\u001b[39m\u001b[38;5;124m\"\u001b[39m\u001b[38;5;124mval_accuracy\u001b[39m\u001b[38;5;124m\"\u001b[39m,\n\u001b[1;32m   (...)\u001b[0m\n\u001b[0;32m     15\u001b[0m     verbose\u001b[38;5;241m=\u001b[39m\u001b[38;5;241m1\u001b[39m\n\u001b[0;32m     16\u001b[0m )\n\u001b[0;32m     18\u001b[0m \u001b[38;5;66;03m# ✅ 3. Eğitime devam et (34. epoch'tan başlıyor!)\u001b[39;00m\n\u001b[1;32m---> 19\u001b[0m history \u001b[38;5;241m=\u001b[39m \u001b[43mmodel\u001b[49m\u001b[38;5;241;43m.\u001b[39;49m\u001b[43mfit\u001b[49m\u001b[43m(\u001b[49m\n\u001b[0;32m     20\u001b[0m \u001b[43m    \u001b[49m\u001b[43mx\u001b[49m\u001b[38;5;241;43m=\u001b[39;49m\u001b[43mx_train\u001b[49m\u001b[43m,\u001b[49m\n\u001b[0;32m     21\u001b[0m \u001b[43m    \u001b[49m\u001b[43my\u001b[49m\u001b[38;5;241;43m=\u001b[39;49m\u001b[43my_train\u001b[49m\u001b[43m,\u001b[49m\n\u001b[0;32m     22\u001b[0m \u001b[43m    \u001b[49m\u001b[43mvalidation_data\u001b[49m\u001b[38;5;241;43m=\u001b[39;49m\u001b[43m(\u001b[49m\u001b[43mx_test\u001b[49m\u001b[43m,\u001b[49m\u001b[43m \u001b[49m\u001b[43my_test\u001b[49m\u001b[43m)\u001b[49m\u001b[43m,\u001b[49m\n\u001b[0;32m     23\u001b[0m \u001b[43m    \u001b[49m\u001b[43mbatch_size\u001b[49m\u001b[38;5;241;43m=\u001b[39;49m\u001b[38;5;241;43m64\u001b[39;49m\u001b[43m,\u001b[49m\u001b[43m  \u001b[49m\u001b[38;5;66;43;03m# Eğer hata alıyorsan batch_size'ı küçült!\u001b[39;49;00m\n\u001b[0;32m     24\u001b[0m \u001b[43m    \u001b[49m\u001b[43minitial_epoch\u001b[49m\u001b[38;5;241;43m=\u001b[39;49m\u001b[38;5;241;43m34\u001b[39;49m\u001b[43m,\u001b[49m\u001b[43m  \u001b[49m\u001b[38;5;66;43;03m# 🔥 Eğitime 34. epoch'tan başla\u001b[39;49;00m\n\u001b[0;32m     25\u001b[0m \u001b[43m    \u001b[49m\u001b[43mepochs\u001b[49m\u001b[38;5;241;43m=\u001b[39;49m\u001b[38;5;241;43m200\u001b[39;49m\u001b[43m,\u001b[49m\u001b[43m  \u001b[49m\u001b[38;5;66;43;03m# Toplam 200 epoch hedefleniyor, devam edecek\u001b[39;49;00m\n\u001b[0;32m     26\u001b[0m \u001b[43m    \u001b[49m\u001b[43mcallbacks\u001b[49m\u001b[38;5;241;43m=\u001b[39;49m\u001b[43m[\u001b[49m\u001b[43mearly_stopping\u001b[49m\u001b[43m,\u001b[49m\u001b[43m \u001b[49m\u001b[43mcheckpoint\u001b[49m\u001b[43m]\u001b[49m\u001b[43m,\u001b[49m\n\u001b[0;32m     27\u001b[0m \u001b[43m    \u001b[49m\u001b[43mverbose\u001b[49m\u001b[38;5;241;43m=\u001b[39;49m\u001b[38;5;241;43m2\u001b[39;49m\u001b[43m,\u001b[49m\n\u001b[0;32m     28\u001b[0m \u001b[43m)\u001b[49m\n",
      "File \u001b[1;32mc:\\Users\\LENOVO\\Desktop\\brain_tumor_detection_codes\\brain_diseases\\lib\\site-packages\\keras\\src\\utils\\traceback_utils.py:122\u001b[0m, in \u001b[0;36mfilter_traceback.<locals>.error_handler\u001b[1;34m(*args, **kwargs)\u001b[0m\n\u001b[0;32m    119\u001b[0m     filtered_tb \u001b[38;5;241m=\u001b[39m _process_traceback_frames(e\u001b[38;5;241m.\u001b[39m__traceback__)\n\u001b[0;32m    120\u001b[0m     \u001b[38;5;66;03m# To get the full stack trace, call:\u001b[39;00m\n\u001b[0;32m    121\u001b[0m     \u001b[38;5;66;03m# `keras.config.disable_traceback_filtering()`\u001b[39;00m\n\u001b[1;32m--> 122\u001b[0m     \u001b[38;5;28;01mraise\u001b[39;00m e\u001b[38;5;241m.\u001b[39mwith_traceback(filtered_tb) \u001b[38;5;28;01mfrom\u001b[39;00m\u001b[38;5;250m \u001b[39m\u001b[38;5;28;01mNone\u001b[39;00m\n\u001b[0;32m    123\u001b[0m \u001b[38;5;28;01mfinally\u001b[39;00m:\n\u001b[0;32m    124\u001b[0m     \u001b[38;5;28;01mdel\u001b[39;00m filtered_tb\n",
      "File \u001b[1;32mc:\\Users\\LENOVO\\Desktop\\brain_tumor_detection_codes\\brain_diseases\\lib\\site-packages\\tensorflow\\python\\framework\\constant_op.py:96\u001b[0m, in \u001b[0;36mconvert_to_eager_tensor\u001b[1;34m(value, ctx, dtype)\u001b[0m\n\u001b[0;32m     76\u001b[0m \u001b[38;5;250m\u001b[39m\u001b[38;5;124;03m\"\"\"Converts the given `value` to an `EagerTensor`.\u001b[39;00m\n\u001b[0;32m     77\u001b[0m \n\u001b[0;32m     78\u001b[0m \u001b[38;5;124;03mNote that this function could return cached copies of created constants for\u001b[39;00m\n\u001b[1;32m   (...)\u001b[0m\n\u001b[0;32m     90\u001b[0m \u001b[38;5;124;03m  TypeError: if `dtype` is not compatible with the type of t.\u001b[39;00m\n\u001b[0;32m     91\u001b[0m \u001b[38;5;124;03m\"\"\"\u001b[39;00m\n\u001b[0;32m     92\u001b[0m \u001b[38;5;28;01mif\u001b[39;00m \u001b[38;5;28misinstance\u001b[39m(value, np\u001b[38;5;241m.\u001b[39mndarray):\n\u001b[0;32m     93\u001b[0m   \u001b[38;5;66;03m# Make a copy explicitly because the EagerTensor might share the underlying\u001b[39;00m\n\u001b[0;32m     94\u001b[0m   \u001b[38;5;66;03m# memory with the input array. Without this copy, users will be able to\u001b[39;00m\n\u001b[0;32m     95\u001b[0m   \u001b[38;5;66;03m# modify the EagerTensor after its creation by changing the input array.\u001b[39;00m\n\u001b[1;32m---> 96\u001b[0m   value \u001b[38;5;241m=\u001b[39m \u001b[43mvalue\u001b[49m\u001b[38;5;241;43m.\u001b[39;49m\u001b[43mcopy\u001b[49m\u001b[43m(\u001b[49m\u001b[43m)\u001b[49m\n\u001b[0;32m     97\u001b[0m \u001b[38;5;28;01mif\u001b[39;00m \u001b[38;5;28misinstance\u001b[39m(value, ops\u001b[38;5;241m.\u001b[39mEagerTensor):\n\u001b[0;32m     98\u001b[0m   \u001b[38;5;28;01mif\u001b[39;00m dtype \u001b[38;5;129;01mis\u001b[39;00m \u001b[38;5;129;01mnot\u001b[39;00m \u001b[38;5;28;01mNone\u001b[39;00m \u001b[38;5;129;01mand\u001b[39;00m value\u001b[38;5;241m.\u001b[39mdtype \u001b[38;5;241m!=\u001b[39m dtype:\n",
      "\u001b[1;31mMemoryError\u001b[0m: Unable to allocate 547. MiB for an array with shape (2916, 128, 128, 3) and data type float32"
     ]
    }
   ],
   "source": [
    "from tensorflow.keras.models import load_model\n",
    "from tensorflow.keras.callbacks import ModelCheckpoint, EarlyStopping\n",
    "import tensorflow as tf\n",
    "tf.config.run_functions_eagerly(True)\n",
    "\n",
    "# ✅ 1. En son kaydedilen modeli yükle\n",
    "model = load_model(\"model_epoch_33_val_acc_0.9808.h5\")  # 🔥 En son checkpoint dosyanı gir!\n",
    "\n",
    "# ✅ 2. ModelCheckpoint ve EarlyStopping callback'lerini tekrar tanımla\n",
    "checkpoint = ModelCheckpoint(\n",
    "    \"model_epoch_{epoch:02d}_val_acc_{val_accuracy:.4f}.h5\",#burda her defasında oluşan modelerin ağırlıklarını kaydettim çünkü en iiy model aralarda kalabilir bu yüzden ağırlıkalrı her defasında aklaydederek gittim\n",
    "    monitor=\"val_accuracy\",\n",
    "    save_best_only=False,\n",
    "    save_weights_only=False,\n",
    "    verbose=1\n",
    ")\n",
    "\n",
    "# ✅ 3. Eğitime devam et (34. epoch'tan başlıyor!)\n",
    "history = model.fit(\n",
    "    x=x_train,\n",
    "    y=y_train,\n",
    "    validation_data=(x_test, y_test),\n",
    "    batch_size=64,  # Eğer hata alıyorsan batch_size'ı küçült!\n",
    "    initial_epoch=34,  # 🔥 Eğitime 34. epoch'tan başla\n",
    "    epochs=200,  # Toplam 200 epoch hedefleniyor, devam edecek\n",
    "    callbacks=[early_stopping, checkpoint],\n",
    "    verbose=2,\n",
    ")\n"
   ]
  },
  {
   "cell_type": "markdown",
   "metadata": {},
   "source": [
    "# Yukaridaki hatayı alma sebebim memory yetersizlği donanım eksikliğinden kaynaklı bir durum oldu düzletmek için batch_size ve kod yoğunluğunu kaldırğp daha az bellek gerektirecek iekilde kodumu düzenledim"
   ]
  },
  {
   "cell_type": "code",
   "execution_count": 40,
   "metadata": {},
   "outputs": [
    {
     "name": "stdout",
     "output_type": "stream",
     "text": [
      "Epoch 1/200\n",
      "\n",
      "Epoch 1: saving model to model_epoch_01_val_acc_0.9808.h5\n"
     ]
    },
    {
     "name": "stderr",
     "output_type": "stream",
     "text": [
      "WARNING:absl:You are saving your model as an HDF5 file via `model.save()` or `keras.saving.save_model(model)`. This file format is considered legacy. We recommend using instead the native Keras format, e.g. `model.save('my_model.keras')` or `keras.saving.save_model(model, 'my_model.keras')`. \n"
     ]
    },
    {
     "name": "stdout",
     "output_type": "stream",
     "text": [
      "46/46 - 1765s - 38s/step - accuracy: 0.9815 - loss: 0.0583 - val_accuracy: 0.9808 - val_loss: 0.0586\n",
      "Epoch 2/200\n",
      "\n",
      "Epoch 2: saving model to model_epoch_02_val_acc_0.9664.h5\n"
     ]
    },
    {
     "name": "stderr",
     "output_type": "stream",
     "text": [
      "WARNING:absl:You are saving your model as an HDF5 file via `model.save()` or `keras.saving.save_model(model)`. This file format is considered legacy. We recommend using instead the native Keras format, e.g. `model.save('my_model.keras')` or `keras.saving.save_model(model, 'my_model.keras')`. \n"
     ]
    },
    {
     "name": "stdout",
     "output_type": "stream",
     "text": [
      "46/46 - 1191s - 26s/step - accuracy: 0.9883 - loss: 0.0400 - val_accuracy: 0.9664 - val_loss: 0.1055\n",
      "Epoch 3/200\n",
      "\n",
      "Epoch 3: saving model to model_epoch_03_val_acc_0.9760.h5\n"
     ]
    },
    {
     "name": "stderr",
     "output_type": "stream",
     "text": [
      "WARNING:absl:You are saving your model as an HDF5 file via `model.save()` or `keras.saving.save_model(model)`. This file format is considered legacy. We recommend using instead the native Keras format, e.g. `model.save('my_model.keras')` or `keras.saving.save_model(model, 'my_model.keras')`. \n"
     ]
    },
    {
     "name": "stdout",
     "output_type": "stream",
     "text": [
      "46/46 - 1158s - 25s/step - accuracy: 0.9791 - loss: 0.0522 - val_accuracy: 0.9760 - val_loss: 0.0790\n",
      "Epoch 4/200\n",
      "\n",
      "Epoch 4: saving model to model_epoch_04_val_acc_0.9776.h5\n"
     ]
    },
    {
     "name": "stderr",
     "output_type": "stream",
     "text": [
      "WARNING:absl:You are saving your model as an HDF5 file via `model.save()` or `keras.saving.save_model(model)`. This file format is considered legacy. We recommend using instead the native Keras format, e.g. `model.save('my_model.keras')` or `keras.saving.save_model(model, 'my_model.keras')`. \n"
     ]
    },
    {
     "name": "stdout",
     "output_type": "stream",
     "text": [
      "46/46 - 1166s - 25s/step - accuracy: 0.9760 - loss: 0.0689 - val_accuracy: 0.9776 - val_loss: 0.0706\n",
      "Epoch 5/200\n",
      "\n",
      "Epoch 5: saving model to model_epoch_05_val_acc_0.9848.h5\n"
     ]
    },
    {
     "name": "stderr",
     "output_type": "stream",
     "text": [
      "WARNING:absl:You are saving your model as an HDF5 file via `model.save()` or `keras.saving.save_model(model)`. This file format is considered legacy. We recommend using instead the native Keras format, e.g. `model.save('my_model.keras')` or `keras.saving.save_model(model, 'my_model.keras')`. \n"
     ]
    },
    {
     "name": "stdout",
     "output_type": "stream",
     "text": [
      "46/46 - 1157s - 25s/step - accuracy: 0.9856 - loss: 0.0379 - val_accuracy: 0.9848 - val_loss: 0.0490\n",
      "Epoch 6/200\n",
      "\n",
      "Epoch 6: saving model to model_epoch_06_val_acc_0.9608.h5\n"
     ]
    },
    {
     "name": "stderr",
     "output_type": "stream",
     "text": [
      "WARNING:absl:You are saving your model as an HDF5 file via `model.save()` or `keras.saving.save_model(model)`. This file format is considered legacy. We recommend using instead the native Keras format, e.g. `model.save('my_model.keras')` or `keras.saving.save_model(model, 'my_model.keras')`. \n"
     ]
    },
    {
     "name": "stdout",
     "output_type": "stream",
     "text": [
      "46/46 - 1174s - 26s/step - accuracy: 0.9887 - loss: 0.0319 - val_accuracy: 0.9608 - val_loss: 0.1039\n",
      "Epoch 7/200\n",
      "\n",
      "Epoch 7: saving model to model_epoch_07_val_acc_0.9816.h5\n"
     ]
    },
    {
     "name": "stderr",
     "output_type": "stream",
     "text": [
      "WARNING:absl:You are saving your model as an HDF5 file via `model.save()` or `keras.saving.save_model(model)`. This file format is considered legacy. We recommend using instead the native Keras format, e.g. `model.save('my_model.keras')` or `keras.saving.save_model(model, 'my_model.keras')`. \n"
     ]
    },
    {
     "name": "stdout",
     "output_type": "stream",
     "text": [
      "46/46 - 1161s - 25s/step - accuracy: 0.9856 - loss: 0.0418 - val_accuracy: 0.9816 - val_loss: 0.0452\n",
      "Epoch 8/200\n",
      "\n",
      "Epoch 8: saving model to model_epoch_08_val_acc_0.9656.h5\n"
     ]
    },
    {
     "name": "stderr",
     "output_type": "stream",
     "text": [
      "WARNING:absl:You are saving your model as an HDF5 file via `model.save()` or `keras.saving.save_model(model)`. This file format is considered legacy. We recommend using instead the native Keras format, e.g. `model.save('my_model.keras')` or `keras.saving.save_model(model, 'my_model.keras')`. \n"
     ]
    },
    {
     "name": "stdout",
     "output_type": "stream",
     "text": [
      "46/46 - 1165s - 25s/step - accuracy: 0.9918 - loss: 0.0304 - val_accuracy: 0.9656 - val_loss: 0.1023\n",
      "Epoch 9/200\n",
      "\n",
      "Epoch 9: saving model to model_epoch_09_val_acc_0.9720.h5\n"
     ]
    },
    {
     "name": "stderr",
     "output_type": "stream",
     "text": [
      "WARNING:absl:You are saving your model as an HDF5 file via `model.save()` or `keras.saving.save_model(model)`. This file format is considered legacy. We recommend using instead the native Keras format, e.g. `model.save('my_model.keras')` or `keras.saving.save_model(model, 'my_model.keras')`. \n"
     ]
    },
    {
     "name": "stdout",
     "output_type": "stream",
     "text": [
      "46/46 - 1206s - 26s/step - accuracy: 0.9890 - loss: 0.0339 - val_accuracy: 0.9720 - val_loss: 0.0809\n",
      "Epoch 10/200\n",
      "\n",
      "Epoch 10: saving model to model_epoch_10_val_acc_0.9800.h5\n"
     ]
    },
    {
     "name": "stderr",
     "output_type": "stream",
     "text": [
      "WARNING:absl:You are saving your model as an HDF5 file via `model.save()` or `keras.saving.save_model(model)`. This file format is considered legacy. We recommend using instead the native Keras format, e.g. `model.save('my_model.keras')` or `keras.saving.save_model(model, 'my_model.keras')`. \n"
     ]
    },
    {
     "name": "stdout",
     "output_type": "stream",
     "text": [
      "46/46 - 1166s - 25s/step - accuracy: 0.9880 - loss: 0.0305 - val_accuracy: 0.9800 - val_loss: 0.0581\n",
      "Epoch 11/200\n",
      "\n",
      "Epoch 11: saving model to model_epoch_11_val_acc_0.9760.h5\n"
     ]
    },
    {
     "name": "stderr",
     "output_type": "stream",
     "text": [
      "WARNING:absl:You are saving your model as an HDF5 file via `model.save()` or `keras.saving.save_model(model)`. This file format is considered legacy. We recommend using instead the native Keras format, e.g. `model.save('my_model.keras')` or `keras.saving.save_model(model, 'my_model.keras')`. \n"
     ]
    },
    {
     "name": "stdout",
     "output_type": "stream",
     "text": [
      "46/46 - 1162s - 25s/step - accuracy: 0.9883 - loss: 0.0368 - val_accuracy: 0.9760 - val_loss: 0.0601\n",
      "Epoch 12/200\n",
      "\n",
      "Epoch 12: saving model to model_epoch_12_val_acc_0.9728.h5\n"
     ]
    },
    {
     "name": "stderr",
     "output_type": "stream",
     "text": [
      "WARNING:absl:You are saving your model as an HDF5 file via `model.save()` or `keras.saving.save_model(model)`. This file format is considered legacy. We recommend using instead the native Keras format, e.g. `model.save('my_model.keras')` or `keras.saving.save_model(model, 'my_model.keras')`. \n"
     ]
    },
    {
     "name": "stdout",
     "output_type": "stream",
     "text": [
      "46/46 - 1159s - 25s/step - accuracy: 0.9877 - loss: 0.0309 - val_accuracy: 0.9728 - val_loss: 0.0874\n",
      "Epoch 13/200\n",
      "\n",
      "Epoch 13: saving model to model_epoch_13_val_acc_0.9760.h5\n"
     ]
    },
    {
     "name": "stderr",
     "output_type": "stream",
     "text": [
      "WARNING:absl:You are saving your model as an HDF5 file via `model.save()` or `keras.saving.save_model(model)`. This file format is considered legacy. We recommend using instead the native Keras format, e.g. `model.save('my_model.keras')` or `keras.saving.save_model(model, 'my_model.keras')`. \n"
     ]
    },
    {
     "name": "stdout",
     "output_type": "stream",
     "text": [
      "46/46 - 1153s - 25s/step - accuracy: 0.9894 - loss: 0.0301 - val_accuracy: 0.9760 - val_loss: 0.0704\n",
      "Epoch 14/200\n",
      "\n",
      "Epoch 14: saving model to model_epoch_14_val_acc_0.9816.h5\n"
     ]
    },
    {
     "name": "stderr",
     "output_type": "stream",
     "text": [
      "WARNING:absl:You are saving your model as an HDF5 file via `model.save()` or `keras.saving.save_model(model)`. This file format is considered legacy. We recommend using instead the native Keras format, e.g. `model.save('my_model.keras')` or `keras.saving.save_model(model, 'my_model.keras')`. \n"
     ]
    },
    {
     "name": "stdout",
     "output_type": "stream",
     "text": [
      "46/46 - 1154s - 25s/step - accuracy: 0.9935 - loss: 0.0213 - val_accuracy: 0.9816 - val_loss: 0.0532\n",
      "Epoch 15/200\n",
      "\n",
      "Epoch 15: saving model to model_epoch_15_val_acc_0.9760.h5\n"
     ]
    },
    {
     "name": "stderr",
     "output_type": "stream",
     "text": [
      "WARNING:absl:You are saving your model as an HDF5 file via `model.save()` or `keras.saving.save_model(model)`. This file format is considered legacy. We recommend using instead the native Keras format, e.g. `model.save('my_model.keras')` or `keras.saving.save_model(model, 'my_model.keras')`. \n"
     ]
    },
    {
     "name": "stdout",
     "output_type": "stream",
     "text": [
      "46/46 - 1154s - 25s/step - accuracy: 0.9760 - loss: 0.0654 - val_accuracy: 0.9760 - val_loss: 0.0718\n",
      "Epoch 16/200\n",
      "\n",
      "Epoch 16: saving model to model_epoch_16_val_acc_0.9776.h5\n"
     ]
    },
    {
     "name": "stderr",
     "output_type": "stream",
     "text": [
      "WARNING:absl:You are saving your model as an HDF5 file via `model.save()` or `keras.saving.save_model(model)`. This file format is considered legacy. We recommend using instead the native Keras format, e.g. `model.save('my_model.keras')` or `keras.saving.save_model(model, 'my_model.keras')`. \n"
     ]
    },
    {
     "name": "stdout",
     "output_type": "stream",
     "text": [
      "46/46 - 1197s - 26s/step - accuracy: 0.9873 - loss: 0.0345 - val_accuracy: 0.9776 - val_loss: 0.0534\n",
      "Epoch 17/200\n",
      "\n",
      "Epoch 17: saving model to model_epoch_17_val_acc_0.9832.h5\n"
     ]
    },
    {
     "name": "stderr",
     "output_type": "stream",
     "text": [
      "WARNING:absl:You are saving your model as an HDF5 file via `model.save()` or `keras.saving.save_model(model)`. This file format is considered legacy. We recommend using instead the native Keras format, e.g. `model.save('my_model.keras')` or `keras.saving.save_model(model, 'my_model.keras')`. \n"
     ]
    },
    {
     "name": "stdout",
     "output_type": "stream",
     "text": [
      "46/46 - 1209s - 26s/step - accuracy: 0.9883 - loss: 0.0321 - val_accuracy: 0.9832 - val_loss: 0.0462\n",
      "Epoch 18/200\n",
      "\n",
      "Epoch 18: saving model to model_epoch_18_val_acc_0.9856.h5\n"
     ]
    },
    {
     "name": "stderr",
     "output_type": "stream",
     "text": [
      "WARNING:absl:You are saving your model as an HDF5 file via `model.save()` or `keras.saving.save_model(model)`. This file format is considered legacy. We recommend using instead the native Keras format, e.g. `model.save('my_model.keras')` or `keras.saving.save_model(model, 'my_model.keras')`. \n"
     ]
    },
    {
     "name": "stdout",
     "output_type": "stream",
     "text": [
      "46/46 - 1172s - 25s/step - accuracy: 0.9914 - loss: 0.0187 - val_accuracy: 0.9856 - val_loss: 0.0568\n",
      "Epoch 19/200\n",
      "\n",
      "Epoch 19: saving model to model_epoch_19_val_acc_0.9824.h5\n"
     ]
    },
    {
     "name": "stderr",
     "output_type": "stream",
     "text": [
      "WARNING:absl:You are saving your model as an HDF5 file via `model.save()` or `keras.saving.save_model(model)`. This file format is considered legacy. We recommend using instead the native Keras format, e.g. `model.save('my_model.keras')` or `keras.saving.save_model(model, 'my_model.keras')`. \n"
     ]
    },
    {
     "name": "stdout",
     "output_type": "stream",
     "text": [
      "46/46 - 1183s - 26s/step - accuracy: 0.9931 - loss: 0.0166 - val_accuracy: 0.9824 - val_loss: 0.0490\n",
      "Epoch 20/200\n",
      "\n",
      "Epoch 20: saving model to model_epoch_20_val_acc_0.9712.h5\n"
     ]
    },
    {
     "name": "stderr",
     "output_type": "stream",
     "text": [
      "WARNING:absl:You are saving your model as an HDF5 file via `model.save()` or `keras.saving.save_model(model)`. This file format is considered legacy. We recommend using instead the native Keras format, e.g. `model.save('my_model.keras')` or `keras.saving.save_model(model, 'my_model.keras')`. \n"
     ]
    },
    {
     "name": "stdout",
     "output_type": "stream",
     "text": [
      "46/46 - 1148s - 25s/step - accuracy: 0.9904 - loss: 0.0282 - val_accuracy: 0.9712 - val_loss: 0.0903\n",
      "Epoch 21/200\n",
      "\n",
      "Epoch 21: saving model to model_epoch_21_val_acc_0.9776.h5\n"
     ]
    },
    {
     "name": "stderr",
     "output_type": "stream",
     "text": [
      "WARNING:absl:You are saving your model as an HDF5 file via `model.save()` or `keras.saving.save_model(model)`. This file format is considered legacy. We recommend using instead the native Keras format, e.g. `model.save('my_model.keras')` or `keras.saving.save_model(model, 'my_model.keras')`. \n"
     ]
    },
    {
     "name": "stdout",
     "output_type": "stream",
     "text": [
      "46/46 - 1146s - 25s/step - accuracy: 0.9887 - loss: 0.0266 - val_accuracy: 0.9776 - val_loss: 0.0549\n",
      "Epoch 22/200\n",
      "\n",
      "Epoch 22: saving model to model_epoch_22_val_acc_0.9792.h5\n"
     ]
    },
    {
     "name": "stderr",
     "output_type": "stream",
     "text": [
      "WARNING:absl:You are saving your model as an HDF5 file via `model.save()` or `keras.saving.save_model(model)`. This file format is considered legacy. We recommend using instead the native Keras format, e.g. `model.save('my_model.keras')` or `keras.saving.save_model(model, 'my_model.keras')`. \n"
     ]
    },
    {
     "name": "stdout",
     "output_type": "stream",
     "text": [
      "46/46 - 1149s - 25s/step - accuracy: 0.9914 - loss: 0.0178 - val_accuracy: 0.9792 - val_loss: 0.0525\n",
      "Epoch 23/200\n",
      "\n",
      "Epoch 23: saving model to model_epoch_23_val_acc_0.9792.h5\n"
     ]
    },
    {
     "name": "stderr",
     "output_type": "stream",
     "text": [
      "WARNING:absl:You are saving your model as an HDF5 file via `model.save()` or `keras.saving.save_model(model)`. This file format is considered legacy. We recommend using instead the native Keras format, e.g. `model.save('my_model.keras')` or `keras.saving.save_model(model, 'my_model.keras')`. \n"
     ]
    },
    {
     "name": "stdout",
     "output_type": "stream",
     "text": [
      "46/46 - 1190s - 26s/step - accuracy: 0.9938 - loss: 0.0162 - val_accuracy: 0.9792 - val_loss: 0.0542\n",
      "Epoch 24/200\n",
      "\n",
      "Epoch 24: saving model to model_epoch_24_val_acc_0.9824.h5\n"
     ]
    },
    {
     "name": "stderr",
     "output_type": "stream",
     "text": [
      "WARNING:absl:You are saving your model as an HDF5 file via `model.save()` or `keras.saving.save_model(model)`. This file format is considered legacy. We recommend using instead the native Keras format, e.g. `model.save('my_model.keras')` or `keras.saving.save_model(model, 'my_model.keras')`. \n"
     ]
    },
    {
     "name": "stdout",
     "output_type": "stream",
     "text": [
      "46/46 - 1225s - 27s/step - accuracy: 0.9938 - loss: 0.0156 - val_accuracy: 0.9824 - val_loss: 0.0546\n",
      "Epoch 25/200\n",
      "\n",
      "Epoch 25: saving model to model_epoch_25_val_acc_0.9792.h5\n"
     ]
    },
    {
     "name": "stderr",
     "output_type": "stream",
     "text": [
      "WARNING:absl:You are saving your model as an HDF5 file via `model.save()` or `keras.saving.save_model(model)`. This file format is considered legacy. We recommend using instead the native Keras format, e.g. `model.save('my_model.keras')` or `keras.saving.save_model(model, 'my_model.keras')`. \n"
     ]
    },
    {
     "name": "stdout",
     "output_type": "stream",
     "text": [
      "46/46 - 1199s - 26s/step - accuracy: 0.9897 - loss: 0.0250 - val_accuracy: 0.9792 - val_loss: 0.0778\n",
      "Epoch 26/200\n",
      "\n",
      "Epoch 26: saving model to model_epoch_26_val_acc_0.9784.h5\n"
     ]
    },
    {
     "name": "stderr",
     "output_type": "stream",
     "text": [
      "WARNING:absl:You are saving your model as an HDF5 file via `model.save()` or `keras.saving.save_model(model)`. This file format is considered legacy. We recommend using instead the native Keras format, e.g. `model.save('my_model.keras')` or `keras.saving.save_model(model, 'my_model.keras')`. \n"
     ]
    },
    {
     "name": "stdout",
     "output_type": "stream",
     "text": [
      "46/46 - 2699s - 59s/step - accuracy: 0.9904 - loss: 0.0254 - val_accuracy: 0.9784 - val_loss: 0.0524\n",
      "Epoch 27/200\n",
      "\n",
      "Epoch 27: saving model to model_epoch_27_val_acc_0.9872.h5\n"
     ]
    },
    {
     "name": "stderr",
     "output_type": "stream",
     "text": [
      "WARNING:absl:You are saving your model as an HDF5 file via `model.save()` or `keras.saving.save_model(model)`. This file format is considered legacy. We recommend using instead the native Keras format, e.g. `model.save('my_model.keras')` or `keras.saving.save_model(model, 'my_model.keras')`. \n"
     ]
    },
    {
     "name": "stdout",
     "output_type": "stream",
     "text": [
      "46/46 - 1149s - 25s/step - accuracy: 0.9890 - loss: 0.0298 - val_accuracy: 0.9872 - val_loss: 0.0499\n",
      "Epoch 28/200\n",
      "\n",
      "Epoch 28: saving model to model_epoch_28_val_acc_0.9864.h5\n"
     ]
    },
    {
     "name": "stderr",
     "output_type": "stream",
     "text": [
      "WARNING:absl:You are saving your model as an HDF5 file via `model.save()` or `keras.saving.save_model(model)`. This file format is considered legacy. We recommend using instead the native Keras format, e.g. `model.save('my_model.keras')` or `keras.saving.save_model(model, 'my_model.keras')`. \n"
     ]
    },
    {
     "name": "stdout",
     "output_type": "stream",
     "text": [
      "46/46 - 1183s - 26s/step - accuracy: 0.9904 - loss: 0.0232 - val_accuracy: 0.9864 - val_loss: 0.0397\n",
      "Epoch 29/200\n",
      "\n",
      "Epoch 29: saving model to model_epoch_29_val_acc_0.9784.h5\n"
     ]
    },
    {
     "name": "stderr",
     "output_type": "stream",
     "text": [
      "WARNING:absl:You are saving your model as an HDF5 file via `model.save()` or `keras.saving.save_model(model)`. This file format is considered legacy. We recommend using instead the native Keras format, e.g. `model.save('my_model.keras')` or `keras.saving.save_model(model, 'my_model.keras')`. \n"
     ]
    },
    {
     "name": "stdout",
     "output_type": "stream",
     "text": [
      "46/46 - 1254s - 27s/step - accuracy: 0.9925 - loss: 0.0185 - val_accuracy: 0.9784 - val_loss: 0.0603\n",
      "Epoch 30/200\n",
      "\n",
      "Epoch 30: saving model to model_epoch_30_val_acc_0.9848.h5\n"
     ]
    },
    {
     "name": "stderr",
     "output_type": "stream",
     "text": [
      "WARNING:absl:You are saving your model as an HDF5 file via `model.save()` or `keras.saving.save_model(model)`. This file format is considered legacy. We recommend using instead the native Keras format, e.g. `model.save('my_model.keras')` or `keras.saving.save_model(model, 'my_model.keras')`. \n"
     ]
    },
    {
     "name": "stdout",
     "output_type": "stream",
     "text": [
      "46/46 - 1132s - 25s/step - accuracy: 0.9918 - loss: 0.0145 - val_accuracy: 0.9848 - val_loss: 0.0411\n",
      "Epoch 31/200\n",
      "\n",
      "Epoch 31: saving model to model_epoch_31_val_acc_0.9816.h5\n"
     ]
    },
    {
     "name": "stderr",
     "output_type": "stream",
     "text": [
      "WARNING:absl:You are saving your model as an HDF5 file via `model.save()` or `keras.saving.save_model(model)`. This file format is considered legacy. We recommend using instead the native Keras format, e.g. `model.save('my_model.keras')` or `keras.saving.save_model(model, 'my_model.keras')`. \n"
     ]
    },
    {
     "name": "stdout",
     "output_type": "stream",
     "text": [
      "46/46 - 1140s - 25s/step - accuracy: 0.9931 - loss: 0.0143 - val_accuracy: 0.9816 - val_loss: 0.0441\n",
      "Epoch 32/200\n",
      "\n",
      "Epoch 32: saving model to model_epoch_32_val_acc_0.9824.h5\n"
     ]
    },
    {
     "name": "stderr",
     "output_type": "stream",
     "text": [
      "WARNING:absl:You are saving your model as an HDF5 file via `model.save()` or `keras.saving.save_model(model)`. This file format is considered legacy. We recommend using instead the native Keras format, e.g. `model.save('my_model.keras')` or `keras.saving.save_model(model, 'my_model.keras')`. \n"
     ]
    },
    {
     "name": "stdout",
     "output_type": "stream",
     "text": [
      "46/46 - 1126s - 24s/step - accuracy: 0.9955 - loss: 0.0117 - val_accuracy: 0.9824 - val_loss: 0.0479\n",
      "Epoch 33/200\n",
      "\n",
      "Epoch 33: saving model to model_epoch_33_val_acc_0.9808.h5\n"
     ]
    },
    {
     "name": "stderr",
     "output_type": "stream",
     "text": [
      "WARNING:absl:You are saving your model as an HDF5 file via `model.save()` or `keras.saving.save_model(model)`. This file format is considered legacy. We recommend using instead the native Keras format, e.g. `model.save('my_model.keras')` or `keras.saving.save_model(model, 'my_model.keras')`. \n"
     ]
    },
    {
     "name": "stdout",
     "output_type": "stream",
     "text": [
      "46/46 - 1128s - 25s/step - accuracy: 0.9938 - loss: 0.0137 - val_accuracy: 0.9808 - val_loss: 0.0414\n",
      "Epoch 34/200\n"
     ]
    },
    {
     "ename": "AbortedError",
     "evalue": "Graph execution error:\n\nDetected at node StatefulPartitionedCall/sequential_3_1/vgg16_1/block4_conv2_1/Relu defined at (most recent call last):\n<stack traces unavailable>\nOperation received an exception:Status: 1, message: could not create a memory object, in file tensorflow/core/kernels/mkl/mkl_conv_ops.cc:1112\n\t [[{{node StatefulPartitionedCall/sequential_3_1/vgg16_1/block4_conv2_1/Relu}}]] [Op:__inference_multi_step_on_iterator_73200]",
     "output_type": "error",
     "traceback": [
      "\u001b[1;31m---------------------------------------------------------------------------\u001b[0m",
      "\u001b[1;31mAbortedError\u001b[0m                              Traceback (most recent call last)",
      "Cell \u001b[1;32mIn[40], line 13\u001b[0m\n\u001b[0;32m      4\u001b[0m checkpoint \u001b[38;5;241m=\u001b[39m ModelCheckpoint(\n\u001b[0;32m      5\u001b[0m     \u001b[38;5;124m\"\u001b[39m\u001b[38;5;124mmodel_epoch_\u001b[39m\u001b[38;5;132;01m{epoch:02d}\u001b[39;00m\u001b[38;5;124m_val_acc_\u001b[39m\u001b[38;5;132;01m{val_accuracy:.4f}\u001b[39;00m\u001b[38;5;124m.h5\u001b[39m\u001b[38;5;124m\"\u001b[39m,  \u001b[38;5;66;03m# Dosya adı formatı\u001b[39;00m\n\u001b[0;32m      6\u001b[0m     monitor\u001b[38;5;241m=\u001b[39m\u001b[38;5;124m\"\u001b[39m\u001b[38;5;124mval_accuracy\u001b[39m\u001b[38;5;124m\"\u001b[39m,  \u001b[38;5;66;03m# Modelin doğruluğunu takip et\u001b[39;00m\n\u001b[1;32m   (...)\u001b[0m\n\u001b[0;32m      9\u001b[0m     verbose\u001b[38;5;241m=\u001b[39m\u001b[38;5;241m1\u001b[39m  \u001b[38;5;66;03m# Kaydetme işlemini ekrana yazdır\u001b[39;00m\n\u001b[0;32m     10\u001b[0m )\n\u001b[0;32m     12\u001b[0m \u001b[38;5;66;03m# Modeli eğit\u001b[39;00m\n\u001b[1;32m---> 13\u001b[0m history \u001b[38;5;241m=\u001b[39m \u001b[43mmodel\u001b[49m\u001b[38;5;241;43m.\u001b[39;49m\u001b[43mfit\u001b[49m\u001b[43m(\u001b[49m\n\u001b[0;32m     14\u001b[0m \u001b[43m    \u001b[49m\u001b[43mx\u001b[49m\u001b[38;5;241;43m=\u001b[39;49m\u001b[43mx_train\u001b[49m\u001b[43m,\u001b[49m\n\u001b[0;32m     15\u001b[0m \u001b[43m    \u001b[49m\u001b[43my\u001b[49m\u001b[38;5;241;43m=\u001b[39;49m\u001b[43my_train\u001b[49m\u001b[43m,\u001b[49m\n\u001b[0;32m     16\u001b[0m \u001b[43m    \u001b[49m\u001b[43mvalidation_data\u001b[49m\u001b[38;5;241;43m=\u001b[39;49m\u001b[43m(\u001b[49m\u001b[43mx_test\u001b[49m\u001b[43m,\u001b[49m\u001b[43m \u001b[49m\u001b[43my_test\u001b[49m\u001b[43m)\u001b[49m\u001b[43m,\u001b[49m\n\u001b[0;32m     17\u001b[0m \u001b[43m    \u001b[49m\u001b[43mbatch_size\u001b[49m\u001b[38;5;241;43m=\u001b[39;49m\u001b[38;5;241;43m64\u001b[39;49m\u001b[43m,\u001b[49m\n\u001b[0;32m     18\u001b[0m \u001b[43m    \u001b[49m\u001b[43mepochs\u001b[49m\u001b[38;5;241;43m=\u001b[39;49m\u001b[38;5;241;43m200\u001b[39;49m\u001b[43m,\u001b[49m\n\u001b[0;32m     19\u001b[0m \u001b[43m    \u001b[49m\u001b[43mcallbacks\u001b[49m\u001b[38;5;241;43m=\u001b[39;49m\u001b[43m[\u001b[49m\u001b[43mearly_stopping\u001b[49m\u001b[43m,\u001b[49m\u001b[43m \u001b[49m\u001b[43mcheckpoint\u001b[49m\u001b[43m]\u001b[49m\u001b[43m,\u001b[49m\u001b[43m  \u001b[49m\u001b[38;5;66;43;03m# ✅ ModelCheckpoint callback'i eklendi\u001b[39;49;00m\n\u001b[0;32m     20\u001b[0m \u001b[43m    \u001b[49m\u001b[43mverbose\u001b[49m\u001b[38;5;241;43m=\u001b[39;49m\u001b[38;5;241;43m2\u001b[39;49m\u001b[43m,\u001b[49m\n\u001b[0;32m     21\u001b[0m \u001b[43m)\u001b[49m\n",
      "File \u001b[1;32mc:\\Users\\LENOVO\\Desktop\\brain_tumor_detection_codes\\brain_diseases\\lib\\site-packages\\keras\\src\\utils\\traceback_utils.py:122\u001b[0m, in \u001b[0;36mfilter_traceback.<locals>.error_handler\u001b[1;34m(*args, **kwargs)\u001b[0m\n\u001b[0;32m    119\u001b[0m     filtered_tb \u001b[38;5;241m=\u001b[39m _process_traceback_frames(e\u001b[38;5;241m.\u001b[39m__traceback__)\n\u001b[0;32m    120\u001b[0m     \u001b[38;5;66;03m# To get the full stack trace, call:\u001b[39;00m\n\u001b[0;32m    121\u001b[0m     \u001b[38;5;66;03m# `keras.config.disable_traceback_filtering()`\u001b[39;00m\n\u001b[1;32m--> 122\u001b[0m     \u001b[38;5;28;01mraise\u001b[39;00m e\u001b[38;5;241m.\u001b[39mwith_traceback(filtered_tb) \u001b[38;5;28;01mfrom\u001b[39;00m\u001b[38;5;250m \u001b[39m\u001b[38;5;28;01mNone\u001b[39;00m\n\u001b[0;32m    123\u001b[0m \u001b[38;5;28;01mfinally\u001b[39;00m:\n\u001b[0;32m    124\u001b[0m     \u001b[38;5;28;01mdel\u001b[39;00m filtered_tb\n",
      "File \u001b[1;32mc:\\Users\\LENOVO\\Desktop\\brain_tumor_detection_codes\\brain_diseases\\lib\\site-packages\\tensorflow\\python\\eager\\execute.py:53\u001b[0m, in \u001b[0;36mquick_execute\u001b[1;34m(op_name, num_outputs, inputs, attrs, ctx, name)\u001b[0m\n\u001b[0;32m     51\u001b[0m \u001b[38;5;28;01mtry\u001b[39;00m:\n\u001b[0;32m     52\u001b[0m   ctx\u001b[38;5;241m.\u001b[39mensure_initialized()\n\u001b[1;32m---> 53\u001b[0m   tensors \u001b[38;5;241m=\u001b[39m pywrap_tfe\u001b[38;5;241m.\u001b[39mTFE_Py_Execute(ctx\u001b[38;5;241m.\u001b[39m_handle, device_name, op_name,\n\u001b[0;32m     54\u001b[0m                                       inputs, attrs, num_outputs)\n\u001b[0;32m     55\u001b[0m \u001b[38;5;28;01mexcept\u001b[39;00m core\u001b[38;5;241m.\u001b[39m_NotOkStatusException \u001b[38;5;28;01mas\u001b[39;00m e:\n\u001b[0;32m     56\u001b[0m   \u001b[38;5;28;01mif\u001b[39;00m name \u001b[38;5;129;01mis\u001b[39;00m \u001b[38;5;129;01mnot\u001b[39;00m \u001b[38;5;28;01mNone\u001b[39;00m:\n",
      "\u001b[1;31mAbortedError\u001b[0m: Graph execution error:\n\nDetected at node StatefulPartitionedCall/sequential_3_1/vgg16_1/block4_conv2_1/Relu defined at (most recent call last):\n<stack traces unavailable>\nOperation received an exception:Status: 1, message: could not create a memory object, in file tensorflow/core/kernels/mkl/mkl_conv_ops.cc:1112\n\t [[{{node StatefulPartitionedCall/sequential_3_1/vgg16_1/block4_conv2_1/Relu}}]] [Op:__inference_multi_step_on_iterator_73200]"
     ]
    }
   ],
   "source": [
    "from tensorflow.keras.callbacks import ModelCheckpoint, EarlyStopping\n",
    "\n",
    "# Modeli her epoch sonunda kaydetmek için callback oluştur\n",
    "checkpoint = ModelCheckpoint(\n",
    "    \"model_epoch_{epoch:02d}_val_acc_{val_accuracy:.4f}.h5\",  # Dosya adı formatı\n",
    "    monitor=\"val_accuracy\",  # Modelin doğruluğunu takip et\n",
    "    save_best_only=False,  # Her epoch sonunda kaydet (En iyi modeli değil, tüm modelleri kaydet)\n",
    "    save_weights_only=False,  # Tüm modeli kaydet (sadece ağırlıkları değil)\n",
    "    verbose=1  # Kaydetme işlemini ekrana yazdır\n",
    ")\n",
    "\n",
    "# Modeli eğit\n",
    "history = model.fit(\n",
    "    x=x_train,\n",
    "    y=y_train,\n",
    "    validation_data=(x_test, y_test),\n",
    "    batch_size=64,\n",
    "    epochs=200,\n",
    "    callbacks=[early_stopping, checkpoint],  # ✅ ModelCheckpoint callback'i eklendi\n",
    "    verbose=2,\n",
    ")\n"
   ]
  },
  {
   "cell_type": "code",
   "execution_count": null,
   "metadata": {},
   "outputs": [],
   "source": [
    "'''history = model.fit(\n",
    "    x = x_train,\n",
    "    y = y_train,\n",
    "    validation_data= (x_test,y_test),\n",
    "    batch_size = 64,\n",
    "    epochs=200,\n",
    "    callbacks=[early_stopping],\n",
    "    verbose=(2),\n",
    ")'''"
   ]
  },
  {
   "cell_type": "code",
   "execution_count": 43,
   "metadata": {},
   "outputs": [
    {
     "data": {
      "image/png": "[encoded data removed]",
      "text/plain": [
       "<Figure size 640x480 with 1 Axes>"
      ]
     },
     "metadata": {},
     "output_type": "display_data"
    },
    {
     "data": {
      "image/png": "[encoded data removed]",
      "text/plain": [
       "<Figure size 640x480 with 1 Axes>"
      ]
     },
     "metadata": {},
     "output_type": "display_data"
    }
   ],
   "source": [
    "history_frame = pd.DataFrame(history.history)\n",
    "history_frame.loc[:, ['loss','val_loss']].plot()\n",
    "history_frame.loc[:, ['accuracy','val_accuracy']].plot();"
   ]
  },
  {
   "cell_type": "code",
   "execution_count": 49,
   "metadata": {},
   "outputs": [
    {
     "name": "stdout",
     "output_type": "stream",
     "text": [
      "Tahminler tamamlandı!\n"
     ]
    }
   ],
   "source": [
    "\n",
    "# x_test'in veri tipini küçült (Belleği daha az kullanır)\n",
    "x_test = x_test.astype('float16')\n",
    "\n",
    "# Belleğe yük bindirmemek için batch halinde tahmin yap\n",
    "batch_size = 16  # Daha küçük batch boyutu deneyerek bellek tüketimini azalt\n",
    "pred = np.zeros((len(x_test), 1), dtype='float16')  # Boş bir dizi oluştur\n",
    "\n",
    "# Modeli parça parça tahmin yapmaya zorla (Bellek dostu yöntem)\n",
    "for i in range(0, len(x_test), batch_size):\n",
    "    pred[i:i+batch_size] = model.predict_on_batch(x_test[i:i+batch_size])\n",
    "\n",
    "# Tahminleri 0 ve 1'e çevir\n",
    "pred = (pred > 0.5).astype(int)\n",
    "\n",
    "print(\"Tahminler tamamlandı!\")\n"
   ]
  },
  {
   "cell_type": "markdown",
   "metadata": {},
   "source": [
    "# classification_report, scikit-learn kütüphanesinin bir fonksiyonudur ve sınıflandırma modelinizin performansını özetleyen bir rapor oluşturur.\n",
    "# Bu rapor, modelinizin doğruluk (accuracy), hassasiyet (precision), duyarlılık (recall) ve F1 skoru gibi önemli metriklerini içerir.\n",
    "Metrik\tAnlamı\n",
    "Precision\tModelin pozitif tahminlerinin doğru olma oranını gösterir. (TP / (TP + FP))\n",
    "Recall\tModelin doğru tahmin ettiği gerçek pozitiflerin oranını gösterir. (TP / (TP + FN))\n",
    "F1-Score\tPrecision ve Recall'un harmonik ortalaması. (2 * (Precision * Recall) / (Precision + Recall))\n",
    "Support\tHer sınıfa ait örnek sayısıdır.\n",
    "Accuracy\tModelin doğru tahmin ettiği tüm örneklerin oranı.\n",
    "Macro Avg\tTüm sınıfların ortalama değeridir.\n",
    "Weighted Avg\tSınıf sayısına göre ağırlıklı ortalama değeridir."
   ]
  },
  {
   "cell_type": "code",
   "execution_count": 50,
   "metadata": {},
   "outputs": [
    {
     "data": {
      "text/plain": [
       "'              precision    recall  f1-score   support\\n\\n           0       0.98      0.98      0.98       613\\n           1       0.98      0.98      0.98       637\\n\\n    accuracy                           0.98      1250\\n   macro avg       0.98      0.98      0.98      1250\\nweighted avg       0.98      0.98      0.98      1250\\n'"
      ]
     },
     "execution_count": 50,
     "metadata": {},
     "output_type": "execute_result"
    }
   ],
   "source": [
    "#creating a classification report\n",
    "classification_report(y_test, pred)"
   ]
  },
  {
   "cell_type": "code",
   "execution_count": null,
   "metadata": {},
   "outputs": [],
   "source": [
    "'''pred = model.predict(x_test)\n",
    "\n",
    "for i in range(len(pred)):\n",
    "    if pred[i] > 0.5:\n",
    "        pred[i] = 1\n",
    "    else:\n",
    "        pred[i] = 0\n",
    "\n",
    "pred = pred.astype(int)'''\n"
   ]
  },
  {
   "cell_type": "markdown",
   "metadata": {},
   "source": [
    "### Son olarak modelimi kullanma aşamasına geldik bu aşamada eğitim sürecinde kaydedilmiş en iyi model dosyasını yükleriz .\n",
    "### Görüntüyü yükler yeniden boyutlandırır ve normalleştirir modelin beklediği formata düzenler\n",
    "### Görüntüyü modele verir ve tahmin sonucumuzu ekrana bastırız\n",
    "### Kullnıcı etkileşimli olması noktasında Tkinter kullanarak bilgisayarımızdan seçip yapması üzere bir pencere açılır kullanıcı bir görüntü seçtikten sonra tahmini yapılıp sonuc ekranda gösterilir."
   ]
  },
  {
   "cell_type": "markdown",
   "metadata": {},
   "source": [
    "### Results"
   ]
  },
  {
   "cell_type": "code",
   "execution_count": null,
   "metadata": {},
   "outputs": [
    {
     "name": "stderr",
     "output_type": "stream",
     "text": [
      "WARNING:absl:Compiled the loaded model, but the compiled metrics have yet to be built. `model.compile_metrics` will be empty until you train or evaluate the model.\n"
     ]
    },
    {
     "name": "stdout",
     "output_type": "stream",
     "text": [
      "Seçilen dosya: C:/Users/LENOVO/Desktop/pred/file_2025-03-06_10.08.28.png\n",
      "\u001b[1m1/1\u001b[0m \u001b[32m━━━━━━━━━━━━━━━━━━━━\u001b[0m\u001b[37m\u001b[0m \u001b[1m0s\u001b[0m 269ms/step\n"
     ]
    },
    {
     "data": {
      "image/png": "[encoded data removed]",
      "text/plain": [
       "<Figure size 640x480 with 1 Axes>"
      ]
     },
     "metadata": {},
     "output_type": "display_data"
    },
    {
     "name": "stdout",
     "output_type": "stream",
     "text": [
      "🚨 TAHMİN: Tümörlü Görüntü (Skor: 1.00) 🚨\n"
     ]
    }
   ],
   "source": [
    "import numpy as np\n",
    "import tensorflow as tf\n",
    "from tensorflow.keras.models import load_model\n",
    "from PIL import Image\n",
    "import matplotlib.pyplot as plt\n",
    "import tkinter as tk\n",
    "from tkinter import filedialog\n",
    "\n",
    "# Modeli yükle\n",
    "model_path = \"model_epoch_33_val_acc_0.9808.h5\"  # En son kaydedilen model dosyan\n",
    "model = load_model(model_path)\n",
    "\n",
    "def preprocess_image(image_path):\n",
    "    \"\"\"\n",
    "    Görüntüyü modelin eğitim formatına uygun şekilde işler.\n",
    "    \"\"\"\n",
    "    img = Image.open(image_path).convert(\"RGB\")  # Görüntüyü aç ve RGB formatına çevir\n",
    "    img = img.resize((128, 128))  # Eğitimde kullanılan boyuta getir\n",
    "    img = np.array(img)  # NumPy array'e çevir\n",
    "\n",
    "    # Boyut kontrolü ve düzeltme\n",
    "    if len(img.shape) == 2:  \n",
    "        img = np.stack((img,) * 3, axis=-1)  # (128,128) → (128,128,3)\n",
    "\n",
    "    elif img.shape[-1] == 4:  \n",
    "        img = img[:, :, :3]  # RGBA ise Alpha kanalını kaldır\n",
    "\n",
    "    if img.shape != (128, 128, 3):  \n",
    "        print(f\"Hatalı giriş boyutu: {img.shape}\")\n",
    "        return None\n",
    "\n",
    "    img = img.astype('float32') / 255.0  # Normalize et\n",
    "    img = np.expand_dims(img, axis=0)  # Modelin beklediği formata getir (1,128,128,3)\n",
    "    return img\n",
    "\n",
    "\n",
    "def predict_image(image_path):\n",
    "    \"\"\"\n",
    "    Seçilen görüntüyü işler ve modelden tümör tahmini alır.\n",
    "    \"\"\"\n",
    "    img = preprocess_image(image_path)\n",
    "    if img is None:\n",
    "        return\n",
    "    \n",
    "    # Modelin tahmini\n",
    "    prediction = model.predict(img)[0][0]  # Model tahmini al ve skoru al\n",
    "\n",
    "    # Tahmin sonucunu yazdır\n",
    "    plt.imshow(np.squeeze(img))  # Görüntüyü göster\n",
    "    plt.axis(\"off\")\n",
    "    plt.title(\"Tahmin: Tümörlü\" if prediction > 0.5 else \"Tahmin: Tümörsüz\", fontsize=15, color=\"red\" if prediction > 0.5 else \"green\")\n",
    "    plt.show()\n",
    "\n",
    "    threshold = 0.6  # Varsayılan 0.5 yerine 0.6 deneyelim\n",
    "    if prediction > threshold:\n",
    "        print(f\"TAHMİN: Tümörlü Görüntü (Skor: {prediction:.2f}) \")\n",
    "    else:\n",
    "        print(f\"TAHMİN: Tümörsüz Görüntü (Skor: {prediction:.2f}) \")\n",
    "\n",
    "\n",
    "def select_image():\n",
    "    \"\"\"\n",
    "    Kullanıcıya bir dosya seçme penceresi açar ve seçilen görüntüyü tahmin eder.\n",
    "    \"\"\"\n",
    "    root = tk.Tk()\n",
    "    root.withdraw()  # Ana pencereyi gizle\n",
    "    file_path = filedialog.askopenfilename(title=\"Bir görüntü seç\", filetypes=[(\"JPG Files\", \"*.jpg\"), (\"PNG Files\", \"*.png\"), (\"All Files\", \"*.*\")])\n",
    "    \n",
    "    if file_path:  # Eğer kullanıcı bir dosya seçtiyse\n",
    "        print(f\"Seçilen dosya: {file_path}\")\n",
    "        predict_image(file_path)\n",
    "    else:\n",
    "        print(\"Görüntü seçilmedi!\")\n",
    "\n",
    "# Dosya seçme penceresini aç\n",
    "select_image()\n"
   ]
  },
  {
   "cell_type": "code",
   "execution_count": null,
   "metadata": {},
   "outputs": [],
   "source": []
  },
  {
   "cell_type": "markdown",
   "metadata": {},
   "source": [
    "import numpy as np\n",
    "import tensorflow as tf\n",
    "from tensorflow.keras.models import load_model\n",
    "from PIL import Image\n",
    "import matplotlib.pyplot as plt\n",
    "\n",
    "# En son kaydedilen modeli yükle\n",
    "model_path = \"model_epoch_33_val_acc_0.9808.h5\"  # En son kaydedilen model dosyan\n",
    "model = load_model(model_path)\n",
    "\n",
    "def preprocess_image(image_path):\n",
    "    \"\"\"\n",
    "    Görüntüyü modelin eğitim formatına uygun şekilde işler.\n",
    "    \"\"\"\n",
    "    img = Image.open(image_path)  # Görüntüyü aç\n",
    "    img = img.resize((128, 128))  # Eğitimde kullanılan boyuta getir\n",
    "    img = np.array(img)  # NumPy array'e çevir\n",
    "\n",
    "    # Eğer gri tonlamalıysa, 3 kanallı RGB'ye çevir\n",
    "    if len(img.shape) == 2:\n",
    "        img = np.stack((img,) * 3, axis=-1)  # (128,128) → (128,128,3)\n",
    "\n",
    "    # Boyut kontrolü\n",
    "    if img.shape != (128, 128, 3):\n",
    "        print(f\"Hatalı giriş boyutu: {img.shape}\")\n",
    "        return None\n",
    "\n",
    "    # Veriyi normalize et (0-1 aralığına getir)\n",
    "    img = img.astype('float32') / 255.0  \n",
    "\n",
    "    # Modelin beklediği formatta şekillendir (1,128,128,3)\n",
    "    img = np.expand_dims(img, axis=0)\n",
    "\n",
    "    return img\n",
    "\n",
    "def predict_image(image_path):\n",
    "    \"\"\"\n",
    "    Verilen bir görüntüyü işler ve modelden tümör tahmini alır.\n",
    "    \"\"\"\n",
    "    img = preprocess_image(image_path)\n",
    "    if img is None:\n",
    "        return\n",
    "    \n",
    "    # Modelin tahmini\n",
    "    prediction = model.predict(img)[0][0]  # Model tahmini al ve skoru al\n",
    "\n",
    "    # Tahmin sonucunu yazdır\n",
    "    plt.imshow(np.squeeze(img))  # Görüntüyü göster\n",
    "    plt.axis(\"off\")\n",
    "    plt.title(\"Tahmin: Tümörlü\" if prediction > 0.5 else \"Tahmin: Tümörsüz\", fontsize=15, color=\"red\" if prediction > 0.5 else \"green\")\n",
    "    plt.show()\n",
    "\n",
    "    if prediction > 0.5:\n",
    "        print(f\"🚨 TAHMİN: Tümörlü Görüntü (Skor: {prediction:.2f}) 🚨\")\n",
    "    else:\n",
    "        print(f\"✅ TAHMİN: Tümörsüz Görüntü (Skor: {prediction:.2f}) ✅\")\n",
    "\n",
    "# Kullanıcıdan gelen test görüntüsü\n",
    "image_path = \"C:/Users/LENOVO/Desktop/test_image.jpg\"  # Test etmek istediğin resmin yolu\n",
    "predict_image(image_path)\n"
   ]
  }
 ],
 "metadata": {
  "kernelspec": {
   "display_name": "Python (brain_diseases)",
   "language": "python",
   "name": "brain_diseases"
  },
  "language_info": {
   "codemirror_mode": {
    "name": "ipython",
    "version": 3
   },
   "file_extension": ".py",
   "mimetype": "text/x-python",
   "name": "python",
   "nbconvert_exporter": "python",
   "pygments_lexer": "ipython3",
   "version": "3.9.7"
  }
 },
 "nbformat": 4,
 "nbformat_minor": 2
}
